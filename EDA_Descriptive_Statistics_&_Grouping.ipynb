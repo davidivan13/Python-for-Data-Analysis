{
  "cells": [
    {
      "cell_type": "markdown",
      "metadata": {
        "id": "view-in-github",
        "colab_type": "text"
      },
      "source": [
        "<a href=\"https://colab.research.google.com/github/davidivan13/Python-for-Data-Analysis/blob/main/EDA_Descriptive_Statistics_%26_Grouping.ipynb\" target=\"_parent\"><img src=\"https://colab.research.google.com/assets/colab-badge.svg\" alt=\"Open In Colab\"/></a>"
      ]
    },
    {
      "cell_type": "markdown",
      "id": "c98e0752",
      "metadata": {
        "id": "c98e0752"
      },
      "source": [
        "# Impor packages"
      ]
    },
    {
      "cell_type": "code",
      "execution_count": 1,
      "id": "9e69ab8b",
      "metadata": {
        "ExecuteTime": {
          "end_time": "2022-10-09T09:26:37.053251Z",
          "start_time": "2022-10-09T09:26:33.994854Z"
        },
        "execution": {
          "iopub.execute_input": "2022-10-27T09:08:34.104574Z",
          "iopub.status.busy": "2022-10-27T09:08:34.098736Z",
          "iopub.status.idle": "2022-10-27T09:08:36.163843Z",
          "shell.execute_reply": "2022-10-27T09:08:36.162981Z",
          "shell.execute_reply.started": "2022-10-27T09:08:34.103544Z"
        },
        "tags": [],
        "id": "9e69ab8b"
      },
      "outputs": [],
      "source": [
        "# pip install pandas\n",
        "# pip install numpy\n",
        "import pandas as pd\n",
        "import numpy as np"
      ]
    },
    {
      "cell_type": "code",
      "execution_count": 2,
      "id": "13eca110",
      "metadata": {
        "ExecuteTime": {
          "end_time": "2022-10-09T09:31:34.277420Z",
          "start_time": "2022-10-09T09:31:34.262791Z"
        },
        "execution": {
          "iopub.execute_input": "2022-10-27T09:08:36.165377Z",
          "iopub.status.busy": "2022-10-27T09:08:36.165128Z",
          "iopub.status.idle": "2022-10-27T09:08:36.320114Z",
          "shell.execute_reply": "2022-10-27T09:08:36.263945Z",
          "shell.execute_reply.started": "2022-10-27T09:08:36.165356Z"
        },
        "tags": [],
        "id": "13eca110",
        "outputId": "0dad5114-39f0-4964-f79a-89e567ff9325",
        "colab": {
          "base_uri": "https://localhost:8080/",
          "height": 35
        }
      },
      "outputs": [
        {
          "output_type": "execute_result",
          "data": {
            "text/plain": [
              "'/content'"
            ],
            "application/vnd.google.colaboratory.intrinsic+json": {
              "type": "string"
            }
          },
          "metadata": {},
          "execution_count": 2
        }
      ],
      "source": [
        "import os\n",
        "os.getcwd()"
      ]
    },
    {
      "cell_type": "markdown",
      "id": "e8ab0dc7-7a11-4ce0-86c0-0905142c44ae",
      "metadata": {
        "id": "e8ab0dc7-7a11-4ce0-86c0-0905142c44ae"
      },
      "source": [
        "# Impor data dari CSV ke DataFrame"
      ]
    },
    {
      "cell_type": "code",
      "execution_count": 3,
      "id": "9c7563ab-df4d-4ee4-a04b-39cb5dfecac6",
      "metadata": {
        "execution": {
          "iopub.execute_input": "2022-10-27T09:08:40.671561Z",
          "iopub.status.busy": "2022-10-27T09:08:40.670930Z",
          "iopub.status.idle": "2022-10-27T09:08:41.477496Z",
          "shell.execute_reply": "2022-10-27T09:08:41.469636Z",
          "shell.execute_reply.started": "2022-10-27T09:08:40.671524Z"
        },
        "tags": [],
        "id": "9c7563ab-df4d-4ee4-a04b-39cb5dfecac6",
        "outputId": "0c61e94a-8fb8-41c4-bfb7-2e3e76d71e19",
        "colab": {
          "base_uri": "https://localhost:8080/",
          "height": 424
        }
      },
      "outputs": [
        {
          "output_type": "execute_result",
          "data": {
            "text/plain": [
              "       order_id product_code                     product_name  quantity  \\\n",
              "0        493410      TEST001          This is a test product.         5   \n",
              "1       C493411        21539          RETRO SPOTS BUTTER DISH        -1   \n",
              "2        493412      TEST001          This is a test product.         5   \n",
              "3        493413        21724  PANDA AND BUNNIES STICKER SHEET         1   \n",
              "4        493413        84578   ELEPHANT TOY WITH BLUE T-SHIRT         1   \n",
              "...         ...          ...                              ...       ...   \n",
              "461768   539991        21618   4 WILDFLOWER BOTANICAL CANDLES         1   \n",
              "461769   539991        72741            GRAND CHOCOLATECANDLE         4   \n",
              "461770   539992        21470    FLOWER VINE RAFFIA FOOD COVER         1   \n",
              "461771   539992        22258          FELT FARM ANIMAL RABBIT         1   \n",
              "461772   539992        21155            RED RETROSPOT PEG BAG         1   \n",
              "\n",
              "                 order_date  price  customer_id  \n",
              "0       2010-01-04 09:24:00   4.50      12346.0  \n",
              "1       2010-01-04 09:43:00   4.25      14590.0  \n",
              "2       2010-01-04 09:53:00   4.50      12346.0  \n",
              "3       2010-01-04 09:54:00   0.85          NaN  \n",
              "4       2010-01-04 09:54:00   3.75          NaN  \n",
              "...                     ...    ...          ...  \n",
              "461768  2010-12-23 16:49:00   1.25          NaN  \n",
              "461769  2010-12-23 16:49:00   1.45          NaN  \n",
              "461770  2010-12-23 17:41:00   3.75          NaN  \n",
              "461771  2010-12-23 17:41:00   1.25          NaN  \n",
              "461772  2010-12-23 17:41:00   2.10          NaN  \n",
              "\n",
              "[461773 rows x 7 columns]"
            ],
            "text/html": [
              "\n",
              "  <div id=\"df-214a24a1-6cb5-4b68-9837-3db67cea5c84\" class=\"colab-df-container\">\n",
              "    <div>\n",
              "<style scoped>\n",
              "    .dataframe tbody tr th:only-of-type {\n",
              "        vertical-align: middle;\n",
              "    }\n",
              "\n",
              "    .dataframe tbody tr th {\n",
              "        vertical-align: top;\n",
              "    }\n",
              "\n",
              "    .dataframe thead th {\n",
              "        text-align: right;\n",
              "    }\n",
              "</style>\n",
              "<table border=\"1\" class=\"dataframe\">\n",
              "  <thead>\n",
              "    <tr style=\"text-align: right;\">\n",
              "      <th></th>\n",
              "      <th>order_id</th>\n",
              "      <th>product_code</th>\n",
              "      <th>product_name</th>\n",
              "      <th>quantity</th>\n",
              "      <th>order_date</th>\n",
              "      <th>price</th>\n",
              "      <th>customer_id</th>\n",
              "    </tr>\n",
              "  </thead>\n",
              "  <tbody>\n",
              "    <tr>\n",
              "      <th>0</th>\n",
              "      <td>493410</td>\n",
              "      <td>TEST001</td>\n",
              "      <td>This is a test product.</td>\n",
              "      <td>5</td>\n",
              "      <td>2010-01-04 09:24:00</td>\n",
              "      <td>4.50</td>\n",
              "      <td>12346.0</td>\n",
              "    </tr>\n",
              "    <tr>\n",
              "      <th>1</th>\n",
              "      <td>C493411</td>\n",
              "      <td>21539</td>\n",
              "      <td>RETRO SPOTS BUTTER DISH</td>\n",
              "      <td>-1</td>\n",
              "      <td>2010-01-04 09:43:00</td>\n",
              "      <td>4.25</td>\n",
              "      <td>14590.0</td>\n",
              "    </tr>\n",
              "    <tr>\n",
              "      <th>2</th>\n",
              "      <td>493412</td>\n",
              "      <td>TEST001</td>\n",
              "      <td>This is a test product.</td>\n",
              "      <td>5</td>\n",
              "      <td>2010-01-04 09:53:00</td>\n",
              "      <td>4.50</td>\n",
              "      <td>12346.0</td>\n",
              "    </tr>\n",
              "    <tr>\n",
              "      <th>3</th>\n",
              "      <td>493413</td>\n",
              "      <td>21724</td>\n",
              "      <td>PANDA AND BUNNIES STICKER SHEET</td>\n",
              "      <td>1</td>\n",
              "      <td>2010-01-04 09:54:00</td>\n",
              "      <td>0.85</td>\n",
              "      <td>NaN</td>\n",
              "    </tr>\n",
              "    <tr>\n",
              "      <th>4</th>\n",
              "      <td>493413</td>\n",
              "      <td>84578</td>\n",
              "      <td>ELEPHANT TOY WITH BLUE T-SHIRT</td>\n",
              "      <td>1</td>\n",
              "      <td>2010-01-04 09:54:00</td>\n",
              "      <td>3.75</td>\n",
              "      <td>NaN</td>\n",
              "    </tr>\n",
              "    <tr>\n",
              "      <th>...</th>\n",
              "      <td>...</td>\n",
              "      <td>...</td>\n",
              "      <td>...</td>\n",
              "      <td>...</td>\n",
              "      <td>...</td>\n",
              "      <td>...</td>\n",
              "      <td>...</td>\n",
              "    </tr>\n",
              "    <tr>\n",
              "      <th>461768</th>\n",
              "      <td>539991</td>\n",
              "      <td>21618</td>\n",
              "      <td>4 WILDFLOWER BOTANICAL CANDLES</td>\n",
              "      <td>1</td>\n",
              "      <td>2010-12-23 16:49:00</td>\n",
              "      <td>1.25</td>\n",
              "      <td>NaN</td>\n",
              "    </tr>\n",
              "    <tr>\n",
              "      <th>461769</th>\n",
              "      <td>539991</td>\n",
              "      <td>72741</td>\n",
              "      <td>GRAND CHOCOLATECANDLE</td>\n",
              "      <td>4</td>\n",
              "      <td>2010-12-23 16:49:00</td>\n",
              "      <td>1.45</td>\n",
              "      <td>NaN</td>\n",
              "    </tr>\n",
              "    <tr>\n",
              "      <th>461770</th>\n",
              "      <td>539992</td>\n",
              "      <td>21470</td>\n",
              "      <td>FLOWER VINE RAFFIA FOOD COVER</td>\n",
              "      <td>1</td>\n",
              "      <td>2010-12-23 17:41:00</td>\n",
              "      <td>3.75</td>\n",
              "      <td>NaN</td>\n",
              "    </tr>\n",
              "    <tr>\n",
              "      <th>461771</th>\n",
              "      <td>539992</td>\n",
              "      <td>22258</td>\n",
              "      <td>FELT FARM ANIMAL RABBIT</td>\n",
              "      <td>1</td>\n",
              "      <td>2010-12-23 17:41:00</td>\n",
              "      <td>1.25</td>\n",
              "      <td>NaN</td>\n",
              "    </tr>\n",
              "    <tr>\n",
              "      <th>461772</th>\n",
              "      <td>539992</td>\n",
              "      <td>21155</td>\n",
              "      <td>RED RETROSPOT PEG BAG</td>\n",
              "      <td>1</td>\n",
              "      <td>2010-12-23 17:41:00</td>\n",
              "      <td>2.10</td>\n",
              "      <td>NaN</td>\n",
              "    </tr>\n",
              "  </tbody>\n",
              "</table>\n",
              "<p>461773 rows × 7 columns</p>\n",
              "</div>\n",
              "    <div class=\"colab-df-buttons\">\n",
              "\n",
              "  <div class=\"colab-df-container\">\n",
              "    <button class=\"colab-df-convert\" onclick=\"convertToInteractive('df-214a24a1-6cb5-4b68-9837-3db67cea5c84')\"\n",
              "            title=\"Convert this dataframe to an interactive table.\"\n",
              "            style=\"display:none;\">\n",
              "\n",
              "  <svg xmlns=\"http://www.w3.org/2000/svg\" height=\"24px\" viewBox=\"0 -960 960 960\">\n",
              "    <path d=\"M120-120v-720h720v720H120Zm60-500h600v-160H180v160Zm220 220h160v-160H400v160Zm0 220h160v-160H400v160ZM180-400h160v-160H180v160Zm440 0h160v-160H620v160ZM180-180h160v-160H180v160Zm440 0h160v-160H620v160Z\"/>\n",
              "  </svg>\n",
              "    </button>\n",
              "\n",
              "  <style>\n",
              "    .colab-df-container {\n",
              "      display:flex;\n",
              "      gap: 12px;\n",
              "    }\n",
              "\n",
              "    .colab-df-convert {\n",
              "      background-color: #E8F0FE;\n",
              "      border: none;\n",
              "      border-radius: 50%;\n",
              "      cursor: pointer;\n",
              "      display: none;\n",
              "      fill: #1967D2;\n",
              "      height: 32px;\n",
              "      padding: 0 0 0 0;\n",
              "      width: 32px;\n",
              "    }\n",
              "\n",
              "    .colab-df-convert:hover {\n",
              "      background-color: #E2EBFA;\n",
              "      box-shadow: 0px 1px 2px rgba(60, 64, 67, 0.3), 0px 1px 3px 1px rgba(60, 64, 67, 0.15);\n",
              "      fill: #174EA6;\n",
              "    }\n",
              "\n",
              "    .colab-df-buttons div {\n",
              "      margin-bottom: 4px;\n",
              "    }\n",
              "\n",
              "    [theme=dark] .colab-df-convert {\n",
              "      background-color: #3B4455;\n",
              "      fill: #D2E3FC;\n",
              "    }\n",
              "\n",
              "    [theme=dark] .colab-df-convert:hover {\n",
              "      background-color: #434B5C;\n",
              "      box-shadow: 0px 1px 3px 1px rgba(0, 0, 0, 0.15);\n",
              "      filter: drop-shadow(0px 1px 2px rgba(0, 0, 0, 0.3));\n",
              "      fill: #FFFFFF;\n",
              "    }\n",
              "  </style>\n",
              "\n",
              "    <script>\n",
              "      const buttonEl =\n",
              "        document.querySelector('#df-214a24a1-6cb5-4b68-9837-3db67cea5c84 button.colab-df-convert');\n",
              "      buttonEl.style.display =\n",
              "        google.colab.kernel.accessAllowed ? 'block' : 'none';\n",
              "\n",
              "      async function convertToInteractive(key) {\n",
              "        const element = document.querySelector('#df-214a24a1-6cb5-4b68-9837-3db67cea5c84');\n",
              "        const dataTable =\n",
              "          await google.colab.kernel.invokeFunction('convertToInteractive',\n",
              "                                                    [key], {});\n",
              "        if (!dataTable) return;\n",
              "\n",
              "        const docLinkHtml = 'Like what you see? Visit the ' +\n",
              "          '<a target=\"_blank\" href=https://colab.research.google.com/notebooks/data_table.ipynb>data table notebook</a>'\n",
              "          + ' to learn more about interactive tables.';\n",
              "        element.innerHTML = '';\n",
              "        dataTable['output_type'] = 'display_data';\n",
              "        await google.colab.output.renderOutput(dataTable, element);\n",
              "        const docLink = document.createElement('div');\n",
              "        docLink.innerHTML = docLinkHtml;\n",
              "        element.appendChild(docLink);\n",
              "      }\n",
              "    </script>\n",
              "  </div>\n",
              "\n",
              "\n",
              "    <div id=\"df-bdd50fcc-5970-4843-94b3-abe6adb8d1a8\">\n",
              "      <button class=\"colab-df-quickchart\" onclick=\"quickchart('df-bdd50fcc-5970-4843-94b3-abe6adb8d1a8')\"\n",
              "                title=\"Suggest charts\"\n",
              "                style=\"display:none;\">\n",
              "\n",
              "<svg xmlns=\"http://www.w3.org/2000/svg\" height=\"24px\"viewBox=\"0 0 24 24\"\n",
              "     width=\"24px\">\n",
              "    <g>\n",
              "        <path d=\"M19 3H5c-1.1 0-2 .9-2 2v14c0 1.1.9 2 2 2h14c1.1 0 2-.9 2-2V5c0-1.1-.9-2-2-2zM9 17H7v-7h2v7zm4 0h-2V7h2v10zm4 0h-2v-4h2v4z\"/>\n",
              "    </g>\n",
              "</svg>\n",
              "      </button>\n",
              "\n",
              "<style>\n",
              "  .colab-df-quickchart {\n",
              "      --bg-color: #E8F0FE;\n",
              "      --fill-color: #1967D2;\n",
              "      --hover-bg-color: #E2EBFA;\n",
              "      --hover-fill-color: #174EA6;\n",
              "      --disabled-fill-color: #AAA;\n",
              "      --disabled-bg-color: #DDD;\n",
              "  }\n",
              "\n",
              "  [theme=dark] .colab-df-quickchart {\n",
              "      --bg-color: #3B4455;\n",
              "      --fill-color: #D2E3FC;\n",
              "      --hover-bg-color: #434B5C;\n",
              "      --hover-fill-color: #FFFFFF;\n",
              "      --disabled-bg-color: #3B4455;\n",
              "      --disabled-fill-color: #666;\n",
              "  }\n",
              "\n",
              "  .colab-df-quickchart {\n",
              "    background-color: var(--bg-color);\n",
              "    border: none;\n",
              "    border-radius: 50%;\n",
              "    cursor: pointer;\n",
              "    display: none;\n",
              "    fill: var(--fill-color);\n",
              "    height: 32px;\n",
              "    padding: 0;\n",
              "    width: 32px;\n",
              "  }\n",
              "\n",
              "  .colab-df-quickchart:hover {\n",
              "    background-color: var(--hover-bg-color);\n",
              "    box-shadow: 0 1px 2px rgba(60, 64, 67, 0.3), 0 1px 3px 1px rgba(60, 64, 67, 0.15);\n",
              "    fill: var(--button-hover-fill-color);\n",
              "  }\n",
              "\n",
              "  .colab-df-quickchart-complete:disabled,\n",
              "  .colab-df-quickchart-complete:disabled:hover {\n",
              "    background-color: var(--disabled-bg-color);\n",
              "    fill: var(--disabled-fill-color);\n",
              "    box-shadow: none;\n",
              "  }\n",
              "\n",
              "  .colab-df-spinner {\n",
              "    border: 2px solid var(--fill-color);\n",
              "    border-color: transparent;\n",
              "    border-bottom-color: var(--fill-color);\n",
              "    animation:\n",
              "      spin 1s steps(1) infinite;\n",
              "  }\n",
              "\n",
              "  @keyframes spin {\n",
              "    0% {\n",
              "      border-color: transparent;\n",
              "      border-bottom-color: var(--fill-color);\n",
              "      border-left-color: var(--fill-color);\n",
              "    }\n",
              "    20% {\n",
              "      border-color: transparent;\n",
              "      border-left-color: var(--fill-color);\n",
              "      border-top-color: var(--fill-color);\n",
              "    }\n",
              "    30% {\n",
              "      border-color: transparent;\n",
              "      border-left-color: var(--fill-color);\n",
              "      border-top-color: var(--fill-color);\n",
              "      border-right-color: var(--fill-color);\n",
              "    }\n",
              "    40% {\n",
              "      border-color: transparent;\n",
              "      border-right-color: var(--fill-color);\n",
              "      border-top-color: var(--fill-color);\n",
              "    }\n",
              "    60% {\n",
              "      border-color: transparent;\n",
              "      border-right-color: var(--fill-color);\n",
              "    }\n",
              "    80% {\n",
              "      border-color: transparent;\n",
              "      border-right-color: var(--fill-color);\n",
              "      border-bottom-color: var(--fill-color);\n",
              "    }\n",
              "    90% {\n",
              "      border-color: transparent;\n",
              "      border-bottom-color: var(--fill-color);\n",
              "    }\n",
              "  }\n",
              "</style>\n",
              "\n",
              "      <script>\n",
              "        async function quickchart(key) {\n",
              "          const quickchartButtonEl =\n",
              "            document.querySelector('#' + key + ' button');\n",
              "          quickchartButtonEl.disabled = true;  // To prevent multiple clicks.\n",
              "          quickchartButtonEl.classList.add('colab-df-spinner');\n",
              "          try {\n",
              "            const charts = await google.colab.kernel.invokeFunction(\n",
              "                'suggestCharts', [key], {});\n",
              "          } catch (error) {\n",
              "            console.error('Error during call to suggestCharts:', error);\n",
              "          }\n",
              "          quickchartButtonEl.classList.remove('colab-df-spinner');\n",
              "          quickchartButtonEl.classList.add('colab-df-quickchart-complete');\n",
              "        }\n",
              "        (() => {\n",
              "          let quickchartButtonEl =\n",
              "            document.querySelector('#df-bdd50fcc-5970-4843-94b3-abe6adb8d1a8 button');\n",
              "          quickchartButtonEl.style.display =\n",
              "            google.colab.kernel.accessAllowed ? 'block' : 'none';\n",
              "        })();\n",
              "      </script>\n",
              "    </div>\n",
              "\n",
              "  <div id=\"id_d543db2b-c439-4de1-9176-9ce0467769f4\">\n",
              "    <style>\n",
              "      .colab-df-generate {\n",
              "        background-color: #E8F0FE;\n",
              "        border: none;\n",
              "        border-radius: 50%;\n",
              "        cursor: pointer;\n",
              "        display: none;\n",
              "        fill: #1967D2;\n",
              "        height: 32px;\n",
              "        padding: 0 0 0 0;\n",
              "        width: 32px;\n",
              "      }\n",
              "\n",
              "      .colab-df-generate:hover {\n",
              "        background-color: #E2EBFA;\n",
              "        box-shadow: 0px 1px 2px rgba(60, 64, 67, 0.3), 0px 1px 3px 1px rgba(60, 64, 67, 0.15);\n",
              "        fill: #174EA6;\n",
              "      }\n",
              "\n",
              "      [theme=dark] .colab-df-generate {\n",
              "        background-color: #3B4455;\n",
              "        fill: #D2E3FC;\n",
              "      }\n",
              "\n",
              "      [theme=dark] .colab-df-generate:hover {\n",
              "        background-color: #434B5C;\n",
              "        box-shadow: 0px 1px 3px 1px rgba(0, 0, 0, 0.15);\n",
              "        filter: drop-shadow(0px 1px 2px rgba(0, 0, 0, 0.3));\n",
              "        fill: #FFFFFF;\n",
              "      }\n",
              "    </style>\n",
              "    <button class=\"colab-df-generate\" onclick=\"generateWithVariable('df')\"\n",
              "            title=\"Generate code using this dataframe.\"\n",
              "            style=\"display:none;\">\n",
              "\n",
              "  <svg xmlns=\"http://www.w3.org/2000/svg\" height=\"24px\"viewBox=\"0 0 24 24\"\n",
              "       width=\"24px\">\n",
              "    <path d=\"M7,19H8.4L18.45,9,17,7.55,7,17.6ZM5,21V16.75L18.45,3.32a2,2,0,0,1,2.83,0l1.4,1.43a1.91,1.91,0,0,1,.58,1.4,1.91,1.91,0,0,1-.58,1.4L9.25,21ZM18.45,9,17,7.55Zm-12,3A5.31,5.31,0,0,0,4.9,8.1,5.31,5.31,0,0,0,1,6.5,5.31,5.31,0,0,0,4.9,4.9,5.31,5.31,0,0,0,6.5,1,5.31,5.31,0,0,0,8.1,4.9,5.31,5.31,0,0,0,12,6.5,5.46,5.46,0,0,0,6.5,12Z\"/>\n",
              "  </svg>\n",
              "    </button>\n",
              "    <script>\n",
              "      (() => {\n",
              "      const buttonEl =\n",
              "        document.querySelector('#id_d543db2b-c439-4de1-9176-9ce0467769f4 button.colab-df-generate');\n",
              "      buttonEl.style.display =\n",
              "        google.colab.kernel.accessAllowed ? 'block' : 'none';\n",
              "\n",
              "      buttonEl.onclick = () => {\n",
              "        google.colab.notebook.generateWithVariable('df');\n",
              "      }\n",
              "      })();\n",
              "    </script>\n",
              "  </div>\n",
              "\n",
              "    </div>\n",
              "  </div>\n"
            ],
            "application/vnd.google.colaboratory.intrinsic+json": {
              "type": "dataframe",
              "variable_name": "df"
            }
          },
          "metadata": {},
          "execution_count": 3
        }
      ],
      "source": [
        "df = pd.read_csv('Online Retail Data.csv', header=0)\n",
        "df"
      ]
    },
    {
      "cell_type": "markdown",
      "id": "bcb2db12-45f4-4394-9105-ae7eff18f8c7",
      "metadata": {
        "id": "bcb2db12-45f4-4394-9105-ae7eff18f8c7"
      },
      "source": [
        "# Data cleansing"
      ]
    },
    {
      "cell_type": "code",
      "execution_count": 4,
      "id": "3741ccdd-9a53-4f03-95cb-32c09495a815",
      "metadata": {
        "execution": {
          "iopub.execute_input": "2022-10-27T09:09:00.707498Z",
          "iopub.status.busy": "2022-10-27T09:09:00.707181Z",
          "iopub.status.idle": "2022-10-27T09:09:03.699275Z",
          "shell.execute_reply": "2022-10-27T09:09:03.690478Z",
          "shell.execute_reply.started": "2022-10-27T09:09:00.707475Z"
        },
        "tags": [],
        "id": "3741ccdd-9a53-4f03-95cb-32c09495a815",
        "outputId": "eae4dec8-5070-4738-d117-dace0ee9875b",
        "colab": {
          "base_uri": "https://localhost:8080/",
          "height": 528
        }
      },
      "outputs": [
        {
          "output_type": "stream",
          "name": "stderr",
          "text": [
            "/tmp/ipython-input-4-2434907622.py:16: SettingWithCopyWarning: \n",
            "A value is trying to be set on a copy of a slice from a DataFrame.\n",
            "Try using .loc[row_indexer,col_indexer] = value instead\n",
            "\n",
            "See the caveats in the documentation: https://pandas.pydata.org/pandas-docs/stable/user_guide/indexing.html#returning-a-view-versus-a-copy\n",
            "  df_clean['amount'] = df_clean['quantity'] * df_clean['price']\n"
          ]
        },
        {
          "output_type": "execute_result",
          "data": {
            "text/plain": [
              "       order_id product_code                     product_name  quantity  \\\n",
              "0       C493411        21539        red retrospot butter dish         1   \n",
              "1        493413        21724  panda and bunnies sticker sheet         1   \n",
              "2        493413        84578   elephant toy with blue t-shirt         1   \n",
              "3        493413        21723    alphabet hearts sticker sheet         1   \n",
              "4        493414        21844                red retrospot mug        36   \n",
              "...         ...          ...                              ...       ...   \n",
              "458241   539991        21618   4 wildflower botanical candles         1   \n",
              "458242   539991        72741            grand chocolatecandle         4   \n",
              "458243   539992        21470    flower vine raffia food cover         1   \n",
              "458244   539992        22258          felt farm animal rabbit         1   \n",
              "458245   539992        21155               red spotty peg bag         1   \n",
              "\n",
              "                 order_date  price customer_id order_status  amount  \n",
              "0       2010-01-04 09:43:00   4.25     14590.0    cancelled    4.25  \n",
              "1       2010-01-04 09:54:00   0.85         nan    delivered    0.85  \n",
              "2       2010-01-04 09:54:00   3.75         nan    delivered    3.75  \n",
              "3       2010-01-04 09:54:00   0.85         nan    delivered    0.85  \n",
              "4       2010-01-04 10:28:00   2.55     14590.0    delivered   91.80  \n",
              "...                     ...    ...         ...          ...     ...  \n",
              "458241  2010-12-23 16:49:00   1.25         nan    delivered    1.25  \n",
              "458242  2010-12-23 16:49:00   1.45         nan    delivered    5.80  \n",
              "458243  2010-12-23 17:41:00   3.75         nan    delivered    3.75  \n",
              "458244  2010-12-23 17:41:00   1.25         nan    delivered    1.25  \n",
              "458245  2010-12-23 17:41:00   2.10         nan    delivered    2.10  \n",
              "\n",
              "[458246 rows x 9 columns]"
            ],
            "text/html": [
              "\n",
              "  <div id=\"df-93f3cc0b-2c65-4a1d-961b-a8aa5ad10aa2\" class=\"colab-df-container\">\n",
              "    <div>\n",
              "<style scoped>\n",
              "    .dataframe tbody tr th:only-of-type {\n",
              "        vertical-align: middle;\n",
              "    }\n",
              "\n",
              "    .dataframe tbody tr th {\n",
              "        vertical-align: top;\n",
              "    }\n",
              "\n",
              "    .dataframe thead th {\n",
              "        text-align: right;\n",
              "    }\n",
              "</style>\n",
              "<table border=\"1\" class=\"dataframe\">\n",
              "  <thead>\n",
              "    <tr style=\"text-align: right;\">\n",
              "      <th></th>\n",
              "      <th>order_id</th>\n",
              "      <th>product_code</th>\n",
              "      <th>product_name</th>\n",
              "      <th>quantity</th>\n",
              "      <th>order_date</th>\n",
              "      <th>price</th>\n",
              "      <th>customer_id</th>\n",
              "      <th>order_status</th>\n",
              "      <th>amount</th>\n",
              "    </tr>\n",
              "  </thead>\n",
              "  <tbody>\n",
              "    <tr>\n",
              "      <th>0</th>\n",
              "      <td>C493411</td>\n",
              "      <td>21539</td>\n",
              "      <td>red retrospot butter dish</td>\n",
              "      <td>1</td>\n",
              "      <td>2010-01-04 09:43:00</td>\n",
              "      <td>4.25</td>\n",
              "      <td>14590.0</td>\n",
              "      <td>cancelled</td>\n",
              "      <td>4.25</td>\n",
              "    </tr>\n",
              "    <tr>\n",
              "      <th>1</th>\n",
              "      <td>493413</td>\n",
              "      <td>21724</td>\n",
              "      <td>panda and bunnies sticker sheet</td>\n",
              "      <td>1</td>\n",
              "      <td>2010-01-04 09:54:00</td>\n",
              "      <td>0.85</td>\n",
              "      <td>nan</td>\n",
              "      <td>delivered</td>\n",
              "      <td>0.85</td>\n",
              "    </tr>\n",
              "    <tr>\n",
              "      <th>2</th>\n",
              "      <td>493413</td>\n",
              "      <td>84578</td>\n",
              "      <td>elephant toy with blue t-shirt</td>\n",
              "      <td>1</td>\n",
              "      <td>2010-01-04 09:54:00</td>\n",
              "      <td>3.75</td>\n",
              "      <td>nan</td>\n",
              "      <td>delivered</td>\n",
              "      <td>3.75</td>\n",
              "    </tr>\n",
              "    <tr>\n",
              "      <th>3</th>\n",
              "      <td>493413</td>\n",
              "      <td>21723</td>\n",
              "      <td>alphabet hearts sticker sheet</td>\n",
              "      <td>1</td>\n",
              "      <td>2010-01-04 09:54:00</td>\n",
              "      <td>0.85</td>\n",
              "      <td>nan</td>\n",
              "      <td>delivered</td>\n",
              "      <td>0.85</td>\n",
              "    </tr>\n",
              "    <tr>\n",
              "      <th>4</th>\n",
              "      <td>493414</td>\n",
              "      <td>21844</td>\n",
              "      <td>red retrospot mug</td>\n",
              "      <td>36</td>\n",
              "      <td>2010-01-04 10:28:00</td>\n",
              "      <td>2.55</td>\n",
              "      <td>14590.0</td>\n",
              "      <td>delivered</td>\n",
              "      <td>91.80</td>\n",
              "    </tr>\n",
              "    <tr>\n",
              "      <th>...</th>\n",
              "      <td>...</td>\n",
              "      <td>...</td>\n",
              "      <td>...</td>\n",
              "      <td>...</td>\n",
              "      <td>...</td>\n",
              "      <td>...</td>\n",
              "      <td>...</td>\n",
              "      <td>...</td>\n",
              "      <td>...</td>\n",
              "    </tr>\n",
              "    <tr>\n",
              "      <th>458241</th>\n",
              "      <td>539991</td>\n",
              "      <td>21618</td>\n",
              "      <td>4 wildflower botanical candles</td>\n",
              "      <td>1</td>\n",
              "      <td>2010-12-23 16:49:00</td>\n",
              "      <td>1.25</td>\n",
              "      <td>nan</td>\n",
              "      <td>delivered</td>\n",
              "      <td>1.25</td>\n",
              "    </tr>\n",
              "    <tr>\n",
              "      <th>458242</th>\n",
              "      <td>539991</td>\n",
              "      <td>72741</td>\n",
              "      <td>grand chocolatecandle</td>\n",
              "      <td>4</td>\n",
              "      <td>2010-12-23 16:49:00</td>\n",
              "      <td>1.45</td>\n",
              "      <td>nan</td>\n",
              "      <td>delivered</td>\n",
              "      <td>5.80</td>\n",
              "    </tr>\n",
              "    <tr>\n",
              "      <th>458243</th>\n",
              "      <td>539992</td>\n",
              "      <td>21470</td>\n",
              "      <td>flower vine raffia food cover</td>\n",
              "      <td>1</td>\n",
              "      <td>2010-12-23 17:41:00</td>\n",
              "      <td>3.75</td>\n",
              "      <td>nan</td>\n",
              "      <td>delivered</td>\n",
              "      <td>3.75</td>\n",
              "    </tr>\n",
              "    <tr>\n",
              "      <th>458244</th>\n",
              "      <td>539992</td>\n",
              "      <td>22258</td>\n",
              "      <td>felt farm animal rabbit</td>\n",
              "      <td>1</td>\n",
              "      <td>2010-12-23 17:41:00</td>\n",
              "      <td>1.25</td>\n",
              "      <td>nan</td>\n",
              "      <td>delivered</td>\n",
              "      <td>1.25</td>\n",
              "    </tr>\n",
              "    <tr>\n",
              "      <th>458245</th>\n",
              "      <td>539992</td>\n",
              "      <td>21155</td>\n",
              "      <td>red spotty peg bag</td>\n",
              "      <td>1</td>\n",
              "      <td>2010-12-23 17:41:00</td>\n",
              "      <td>2.10</td>\n",
              "      <td>nan</td>\n",
              "      <td>delivered</td>\n",
              "      <td>2.10</td>\n",
              "    </tr>\n",
              "  </tbody>\n",
              "</table>\n",
              "<p>458246 rows × 9 columns</p>\n",
              "</div>\n",
              "    <div class=\"colab-df-buttons\">\n",
              "\n",
              "  <div class=\"colab-df-container\">\n",
              "    <button class=\"colab-df-convert\" onclick=\"convertToInteractive('df-93f3cc0b-2c65-4a1d-961b-a8aa5ad10aa2')\"\n",
              "            title=\"Convert this dataframe to an interactive table.\"\n",
              "            style=\"display:none;\">\n",
              "\n",
              "  <svg xmlns=\"http://www.w3.org/2000/svg\" height=\"24px\" viewBox=\"0 -960 960 960\">\n",
              "    <path d=\"M120-120v-720h720v720H120Zm60-500h600v-160H180v160Zm220 220h160v-160H400v160Zm0 220h160v-160H400v160ZM180-400h160v-160H180v160Zm440 0h160v-160H620v160ZM180-180h160v-160H180v160Zm440 0h160v-160H620v160Z\"/>\n",
              "  </svg>\n",
              "    </button>\n",
              "\n",
              "  <style>\n",
              "    .colab-df-container {\n",
              "      display:flex;\n",
              "      gap: 12px;\n",
              "    }\n",
              "\n",
              "    .colab-df-convert {\n",
              "      background-color: #E8F0FE;\n",
              "      border: none;\n",
              "      border-radius: 50%;\n",
              "      cursor: pointer;\n",
              "      display: none;\n",
              "      fill: #1967D2;\n",
              "      height: 32px;\n",
              "      padding: 0 0 0 0;\n",
              "      width: 32px;\n",
              "    }\n",
              "\n",
              "    .colab-df-convert:hover {\n",
              "      background-color: #E2EBFA;\n",
              "      box-shadow: 0px 1px 2px rgba(60, 64, 67, 0.3), 0px 1px 3px 1px rgba(60, 64, 67, 0.15);\n",
              "      fill: #174EA6;\n",
              "    }\n",
              "\n",
              "    .colab-df-buttons div {\n",
              "      margin-bottom: 4px;\n",
              "    }\n",
              "\n",
              "    [theme=dark] .colab-df-convert {\n",
              "      background-color: #3B4455;\n",
              "      fill: #D2E3FC;\n",
              "    }\n",
              "\n",
              "    [theme=dark] .colab-df-convert:hover {\n",
              "      background-color: #434B5C;\n",
              "      box-shadow: 0px 1px 3px 1px rgba(0, 0, 0, 0.15);\n",
              "      filter: drop-shadow(0px 1px 2px rgba(0, 0, 0, 0.3));\n",
              "      fill: #FFFFFF;\n",
              "    }\n",
              "  </style>\n",
              "\n",
              "    <script>\n",
              "      const buttonEl =\n",
              "        document.querySelector('#df-93f3cc0b-2c65-4a1d-961b-a8aa5ad10aa2 button.colab-df-convert');\n",
              "      buttonEl.style.display =\n",
              "        google.colab.kernel.accessAllowed ? 'block' : 'none';\n",
              "\n",
              "      async function convertToInteractive(key) {\n",
              "        const element = document.querySelector('#df-93f3cc0b-2c65-4a1d-961b-a8aa5ad10aa2');\n",
              "        const dataTable =\n",
              "          await google.colab.kernel.invokeFunction('convertToInteractive',\n",
              "                                                    [key], {});\n",
              "        if (!dataTable) return;\n",
              "\n",
              "        const docLinkHtml = 'Like what you see? Visit the ' +\n",
              "          '<a target=\"_blank\" href=https://colab.research.google.com/notebooks/data_table.ipynb>data table notebook</a>'\n",
              "          + ' to learn more about interactive tables.';\n",
              "        element.innerHTML = '';\n",
              "        dataTable['output_type'] = 'display_data';\n",
              "        await google.colab.output.renderOutput(dataTable, element);\n",
              "        const docLink = document.createElement('div');\n",
              "        docLink.innerHTML = docLinkHtml;\n",
              "        element.appendChild(docLink);\n",
              "      }\n",
              "    </script>\n",
              "  </div>\n",
              "\n",
              "\n",
              "    <div id=\"df-3988f131-77b1-4478-b06e-dece580f0c12\">\n",
              "      <button class=\"colab-df-quickchart\" onclick=\"quickchart('df-3988f131-77b1-4478-b06e-dece580f0c12')\"\n",
              "                title=\"Suggest charts\"\n",
              "                style=\"display:none;\">\n",
              "\n",
              "<svg xmlns=\"http://www.w3.org/2000/svg\" height=\"24px\"viewBox=\"0 0 24 24\"\n",
              "     width=\"24px\">\n",
              "    <g>\n",
              "        <path d=\"M19 3H5c-1.1 0-2 .9-2 2v14c0 1.1.9 2 2 2h14c1.1 0 2-.9 2-2V5c0-1.1-.9-2-2-2zM9 17H7v-7h2v7zm4 0h-2V7h2v10zm4 0h-2v-4h2v4z\"/>\n",
              "    </g>\n",
              "</svg>\n",
              "      </button>\n",
              "\n",
              "<style>\n",
              "  .colab-df-quickchart {\n",
              "      --bg-color: #E8F0FE;\n",
              "      --fill-color: #1967D2;\n",
              "      --hover-bg-color: #E2EBFA;\n",
              "      --hover-fill-color: #174EA6;\n",
              "      --disabled-fill-color: #AAA;\n",
              "      --disabled-bg-color: #DDD;\n",
              "  }\n",
              "\n",
              "  [theme=dark] .colab-df-quickchart {\n",
              "      --bg-color: #3B4455;\n",
              "      --fill-color: #D2E3FC;\n",
              "      --hover-bg-color: #434B5C;\n",
              "      --hover-fill-color: #FFFFFF;\n",
              "      --disabled-bg-color: #3B4455;\n",
              "      --disabled-fill-color: #666;\n",
              "  }\n",
              "\n",
              "  .colab-df-quickchart {\n",
              "    background-color: var(--bg-color);\n",
              "    border: none;\n",
              "    border-radius: 50%;\n",
              "    cursor: pointer;\n",
              "    display: none;\n",
              "    fill: var(--fill-color);\n",
              "    height: 32px;\n",
              "    padding: 0;\n",
              "    width: 32px;\n",
              "  }\n",
              "\n",
              "  .colab-df-quickchart:hover {\n",
              "    background-color: var(--hover-bg-color);\n",
              "    box-shadow: 0 1px 2px rgba(60, 64, 67, 0.3), 0 1px 3px 1px rgba(60, 64, 67, 0.15);\n",
              "    fill: var(--button-hover-fill-color);\n",
              "  }\n",
              "\n",
              "  .colab-df-quickchart-complete:disabled,\n",
              "  .colab-df-quickchart-complete:disabled:hover {\n",
              "    background-color: var(--disabled-bg-color);\n",
              "    fill: var(--disabled-fill-color);\n",
              "    box-shadow: none;\n",
              "  }\n",
              "\n",
              "  .colab-df-spinner {\n",
              "    border: 2px solid var(--fill-color);\n",
              "    border-color: transparent;\n",
              "    border-bottom-color: var(--fill-color);\n",
              "    animation:\n",
              "      spin 1s steps(1) infinite;\n",
              "  }\n",
              "\n",
              "  @keyframes spin {\n",
              "    0% {\n",
              "      border-color: transparent;\n",
              "      border-bottom-color: var(--fill-color);\n",
              "      border-left-color: var(--fill-color);\n",
              "    }\n",
              "    20% {\n",
              "      border-color: transparent;\n",
              "      border-left-color: var(--fill-color);\n",
              "      border-top-color: var(--fill-color);\n",
              "    }\n",
              "    30% {\n",
              "      border-color: transparent;\n",
              "      border-left-color: var(--fill-color);\n",
              "      border-top-color: var(--fill-color);\n",
              "      border-right-color: var(--fill-color);\n",
              "    }\n",
              "    40% {\n",
              "      border-color: transparent;\n",
              "      border-right-color: var(--fill-color);\n",
              "      border-top-color: var(--fill-color);\n",
              "    }\n",
              "    60% {\n",
              "      border-color: transparent;\n",
              "      border-right-color: var(--fill-color);\n",
              "    }\n",
              "    80% {\n",
              "      border-color: transparent;\n",
              "      border-right-color: var(--fill-color);\n",
              "      border-bottom-color: var(--fill-color);\n",
              "    }\n",
              "    90% {\n",
              "      border-color: transparent;\n",
              "      border-bottom-color: var(--fill-color);\n",
              "    }\n",
              "  }\n",
              "</style>\n",
              "\n",
              "      <script>\n",
              "        async function quickchart(key) {\n",
              "          const quickchartButtonEl =\n",
              "            document.querySelector('#' + key + ' button');\n",
              "          quickchartButtonEl.disabled = true;  // To prevent multiple clicks.\n",
              "          quickchartButtonEl.classList.add('colab-df-spinner');\n",
              "          try {\n",
              "            const charts = await google.colab.kernel.invokeFunction(\n",
              "                'suggestCharts', [key], {});\n",
              "          } catch (error) {\n",
              "            console.error('Error during call to suggestCharts:', error);\n",
              "          }\n",
              "          quickchartButtonEl.classList.remove('colab-df-spinner');\n",
              "          quickchartButtonEl.classList.add('colab-df-quickchart-complete');\n",
              "        }\n",
              "        (() => {\n",
              "          let quickchartButtonEl =\n",
              "            document.querySelector('#df-3988f131-77b1-4478-b06e-dece580f0c12 button');\n",
              "          quickchartButtonEl.style.display =\n",
              "            google.colab.kernel.accessAllowed ? 'block' : 'none';\n",
              "        })();\n",
              "      </script>\n",
              "    </div>\n",
              "\n",
              "  <div id=\"id_584eeb72-5d49-434d-beb7-641e7e09818e\">\n",
              "    <style>\n",
              "      .colab-df-generate {\n",
              "        background-color: #E8F0FE;\n",
              "        border: none;\n",
              "        border-radius: 50%;\n",
              "        cursor: pointer;\n",
              "        display: none;\n",
              "        fill: #1967D2;\n",
              "        height: 32px;\n",
              "        padding: 0 0 0 0;\n",
              "        width: 32px;\n",
              "      }\n",
              "\n",
              "      .colab-df-generate:hover {\n",
              "        background-color: #E2EBFA;\n",
              "        box-shadow: 0px 1px 2px rgba(60, 64, 67, 0.3), 0px 1px 3px 1px rgba(60, 64, 67, 0.15);\n",
              "        fill: #174EA6;\n",
              "      }\n",
              "\n",
              "      [theme=dark] .colab-df-generate {\n",
              "        background-color: #3B4455;\n",
              "        fill: #D2E3FC;\n",
              "      }\n",
              "\n",
              "      [theme=dark] .colab-df-generate:hover {\n",
              "        background-color: #434B5C;\n",
              "        box-shadow: 0px 1px 3px 1px rgba(0, 0, 0, 0.15);\n",
              "        filter: drop-shadow(0px 1px 2px rgba(0, 0, 0, 0.3));\n",
              "        fill: #FFFFFF;\n",
              "      }\n",
              "    </style>\n",
              "    <button class=\"colab-df-generate\" onclick=\"generateWithVariable('df_clean')\"\n",
              "            title=\"Generate code using this dataframe.\"\n",
              "            style=\"display:none;\">\n",
              "\n",
              "  <svg xmlns=\"http://www.w3.org/2000/svg\" height=\"24px\"viewBox=\"0 0 24 24\"\n",
              "       width=\"24px\">\n",
              "    <path d=\"M7,19H8.4L18.45,9,17,7.55,7,17.6ZM5,21V16.75L18.45,3.32a2,2,0,0,1,2.83,0l1.4,1.43a1.91,1.91,0,0,1,.58,1.4,1.91,1.91,0,0,1-.58,1.4L9.25,21ZM18.45,9,17,7.55Zm-12,3A5.31,5.31,0,0,0,4.9,8.1,5.31,5.31,0,0,0,1,6.5,5.31,5.31,0,0,0,4.9,4.9,5.31,5.31,0,0,0,6.5,1,5.31,5.31,0,0,0,8.1,4.9,5.31,5.31,0,0,0,12,6.5,5.46,5.46,0,0,0,6.5,12Z\"/>\n",
              "  </svg>\n",
              "    </button>\n",
              "    <script>\n",
              "      (() => {\n",
              "      const buttonEl =\n",
              "        document.querySelector('#id_584eeb72-5d49-434d-beb7-641e7e09818e button.colab-df-generate');\n",
              "      buttonEl.style.display =\n",
              "        google.colab.kernel.accessAllowed ? 'block' : 'none';\n",
              "\n",
              "      buttonEl.onclick = () => {\n",
              "        google.colab.notebook.generateWithVariable('df_clean');\n",
              "      }\n",
              "      })();\n",
              "    </script>\n",
              "  </div>\n",
              "\n",
              "    </div>\n",
              "  </div>\n"
            ],
            "application/vnd.google.colaboratory.intrinsic+json": {
              "type": "dataframe",
              "variable_name": "df_clean"
            }
          },
          "metadata": {},
          "execution_count": 4
        }
      ],
      "source": [
        "df_clean = df.copy()\n",
        "# menghapus semua baris tanpa product_name\n",
        "df_clean = df_clean[~df_clean['product_name'].isna()]\n",
        "# membuat semua product_name berhuruf kecil\n",
        "df_clean['product_name'] = df_clean['product_name'].str.lower()\n",
        "# menghapus semua baris dengan product_code atau product_name test\n",
        "df_clean = df_clean[(~df_clean['product_code'].str.lower().str.contains('test')) |\n",
        "                    (~df_clean['product_name'].str.contains('test '))]\n",
        "# membuat kolom order_status dengan nilai 'cancelled' jika order_id diawali dengan huruf 'c' dan 'delivered' jika order_id tanpa awalan huruf 'c'\n",
        "df_clean['order_status'] = np.where(df_clean['order_id'].str[:1]=='C', 'cancelled', 'delivered')\n",
        "# mengubah nilai quantity yang negatif menjadi positif karena nilai negatif tersebut hanya menandakan order tersebut cancelled\n",
        "df_clean['quantity'] = df_clean['quantity'].abs()\n",
        "# menghapus baris dengan price bernilai negatif\n",
        "df_clean = df_clean[df_clean['price']>0]\n",
        "# membuat nilai amount, yaitu perkalian antara quantity dan price\n",
        "df_clean['amount'] = df_clean['quantity'] * df_clean['price']\n",
        "# mengganti product_name dari product_code yang memiliki beberapa product_name dengan salah satu product_name-nya yang paling sering muncul\n",
        "most_freq_product_name = df_clean.groupby(['product_code','product_name'], as_index=False).agg(order_cnt=('order_id','nunique')).sort_values(['product_code','order_cnt'], ascending=[True,False])\n",
        "most_freq_product_name['rank'] = most_freq_product_name.groupby('product_code')['order_cnt'].rank(method='first', ascending=False)\n",
        "most_freq_product_name = most_freq_product_name[most_freq_product_name['rank']==1].drop(columns=['order_cnt','rank'])\n",
        "df_clean = df_clean.merge(most_freq_product_name.rename(columns={'product_name':'most_freq_product_name'}), how='left', on='product_code')\n",
        "df_clean['product_name'] = df_clean['most_freq_product_name']\n",
        "df_clean = df_clean.drop(columns='most_freq_product_name')\n",
        "# mengkonversi customer_id menjadi string\n",
        "df_clean['customer_id'] = df_clean['customer_id'].astype(str)\n",
        "df_clean = df_clean.reset_index(drop=True)\n",
        "df_clean"
      ]
    },
    {
      "cell_type": "markdown",
      "id": "71cc4605-87bd-45ed-b397-7ab6f71285f0",
      "metadata": {
        "tags": [],
        "id": "71cc4605-87bd-45ed-b397-7ab6f71285f0"
      },
      "source": [
        "# Hal yang sering dilakukan dalam EDA"
      ]
    },
    {
      "cell_type": "markdown",
      "id": "2eba008f-4ae4-4d40-82a5-efbbea0099ba",
      "metadata": {
        "id": "2eba008f-4ae4-4d40-82a5-efbbea0099ba"
      },
      "source": [
        "## Mengetahui banyak baris/record dan kolom/variabel/feature"
      ]
    },
    {
      "cell_type": "code",
      "execution_count": 5,
      "id": "5575e347-bd83-438b-8952-17f35c8b1406",
      "metadata": {
        "execution": {
          "iopub.execute_input": "2022-10-27T09:09:31.840143Z",
          "iopub.status.busy": "2022-10-27T09:09:31.839512Z",
          "iopub.status.idle": "2022-10-27T09:09:31.857057Z",
          "shell.execute_reply": "2022-10-27T09:09:31.850342Z",
          "shell.execute_reply.started": "2022-10-27T09:09:31.840099Z"
        },
        "tags": [],
        "id": "5575e347-bd83-438b-8952-17f35c8b1406",
        "outputId": "44fd8e25-23f6-4f1e-f785-98c359bc98a8",
        "colab": {
          "base_uri": "https://localhost:8080/"
        }
      },
      "outputs": [
        {
          "output_type": "execute_result",
          "data": {
            "text/plain": [
              "(458246, 9)"
            ]
          },
          "metadata": {},
          "execution_count": 5
        }
      ],
      "source": [
        "df_clean.shape"
      ]
    },
    {
      "cell_type": "markdown",
      "id": "06eaf0e9-59de-4b74-8209-4a9faa042fe0",
      "metadata": {
        "id": "06eaf0e9-59de-4b74-8209-4a9faa042fe0"
      },
      "source": [
        "## Mengetahui tipe data dari setiap kolom"
      ]
    },
    {
      "cell_type": "code",
      "execution_count": 6,
      "id": "341dc183-bddc-403d-95c2-0d4c26fc70b7",
      "metadata": {
        "execution": {
          "iopub.execute_input": "2022-10-27T09:10:15.268287Z",
          "iopub.status.busy": "2022-10-27T09:10:15.268022Z",
          "iopub.status.idle": "2022-10-27T09:10:15.803109Z",
          "shell.execute_reply": "2022-10-27T09:10:15.802499Z",
          "shell.execute_reply.started": "2022-10-27T09:10:15.268260Z"
        },
        "tags": [],
        "id": "341dc183-bddc-403d-95c2-0d4c26fc70b7",
        "outputId": "7b1af803-a635-4d6e-b6db-5e36fc058ea7",
        "colab": {
          "base_uri": "https://localhost:8080/"
        }
      },
      "outputs": [
        {
          "output_type": "stream",
          "name": "stdout",
          "text": [
            "<class 'pandas.core.frame.DataFrame'>\n",
            "RangeIndex: 458246 entries, 0 to 458245\n",
            "Data columns (total 9 columns):\n",
            " #   Column        Non-Null Count   Dtype  \n",
            "---  ------        --------------   -----  \n",
            " 0   order_id      458246 non-null  object \n",
            " 1   product_code  458246 non-null  object \n",
            " 2   product_name  458246 non-null  object \n",
            " 3   quantity      458246 non-null  int64  \n",
            " 4   order_date    458246 non-null  object \n",
            " 5   price         458246 non-null  float64\n",
            " 6   customer_id   458246 non-null  object \n",
            " 7   order_status  458246 non-null  object \n",
            " 8   amount        458246 non-null  float64\n",
            "dtypes: float64(2), int64(1), object(6)\n",
            "memory usage: 31.5+ MB\n"
          ]
        }
      ],
      "source": [
        "df_clean.info()"
      ]
    },
    {
      "cell_type": "markdown",
      "id": "f587ea0c-0265-4f6c-a698-b5a251e97083",
      "metadata": {
        "execution": {
          "iopub.execute_input": "2022-10-22T11:05:50.951453Z",
          "iopub.status.busy": "2022-10-22T11:05:50.951041Z",
          "iopub.status.idle": "2022-10-22T11:05:51.330749Z",
          "shell.execute_reply": "2022-10-22T11:05:51.329414Z",
          "shell.execute_reply.started": "2022-10-22T11:05:50.951413Z"
        },
        "tags": [],
        "id": "f587ea0c-0265-4f6c-a698-b5a251e97083"
      },
      "source": [
        "## Mengetahui nilai unik dari kolom/variabel kategorikal"
      ]
    },
    {
      "cell_type": "code",
      "execution_count": 7,
      "id": "f922d192-248d-4594-8b07-d8be5cf66944",
      "metadata": {
        "execution": {
          "iopub.execute_input": "2022-10-27T09:12:22.942097Z",
          "iopub.status.busy": "2022-10-27T09:12:22.940192Z",
          "iopub.status.idle": "2022-10-27T09:12:23.052110Z",
          "shell.execute_reply": "2022-10-27T09:12:23.049875Z",
          "shell.execute_reply.started": "2022-10-27T09:12:22.942050Z"
        },
        "tags": [],
        "id": "f922d192-248d-4594-8b07-d8be5cf66944",
        "outputId": "56cc9a5a-858d-4e5d-9d3d-ee701ca7c9ea",
        "colab": {
          "base_uri": "https://localhost:8080/"
        }
      },
      "outputs": [
        {
          "output_type": "execute_result",
          "data": {
            "text/plain": [
              "array(['cancelled', 'delivered'], dtype=object)"
            ]
          },
          "metadata": {},
          "execution_count": 7
        }
      ],
      "source": [
        "# tanpa informasi frekuensi dari masing-masing nilai unik\n",
        "df_clean['order_status'].unique()"
      ]
    },
    {
      "cell_type": "code",
      "execution_count": 8,
      "id": "20722b4a-fd44-4b99-a54d-35f7647b7d66",
      "metadata": {
        "execution": {
          "iopub.execute_input": "2022-10-27T09:12:55.241306Z",
          "iopub.status.busy": "2022-10-27T09:12:55.240823Z",
          "iopub.status.idle": "2022-10-27T09:12:55.345948Z",
          "shell.execute_reply": "2022-10-27T09:12:55.342624Z",
          "shell.execute_reply.started": "2022-10-27T09:12:55.241271Z"
        },
        "tags": [],
        "id": "20722b4a-fd44-4b99-a54d-35f7647b7d66",
        "outputId": "ae6cb798-a0b1-46e2-f55d-92f216e75a3c",
        "colab": {
          "base_uri": "https://localhost:8080/",
          "height": 178
        }
      },
      "outputs": [
        {
          "output_type": "execute_result",
          "data": {
            "text/plain": [
              "order_status\n",
              "delivered    449996\n",
              "cancelled      8250\n",
              "Name: count, dtype: int64"
            ],
            "text/html": [
              "<div>\n",
              "<style scoped>\n",
              "    .dataframe tbody tr th:only-of-type {\n",
              "        vertical-align: middle;\n",
              "    }\n",
              "\n",
              "    .dataframe tbody tr th {\n",
              "        vertical-align: top;\n",
              "    }\n",
              "\n",
              "    .dataframe thead th {\n",
              "        text-align: right;\n",
              "    }\n",
              "</style>\n",
              "<table border=\"1\" class=\"dataframe\">\n",
              "  <thead>\n",
              "    <tr style=\"text-align: right;\">\n",
              "      <th></th>\n",
              "      <th>count</th>\n",
              "    </tr>\n",
              "    <tr>\n",
              "      <th>order_status</th>\n",
              "      <th></th>\n",
              "    </tr>\n",
              "  </thead>\n",
              "  <tbody>\n",
              "    <tr>\n",
              "      <th>delivered</th>\n",
              "      <td>449996</td>\n",
              "    </tr>\n",
              "    <tr>\n",
              "      <th>cancelled</th>\n",
              "      <td>8250</td>\n",
              "    </tr>\n",
              "  </tbody>\n",
              "</table>\n",
              "</div><br><label><b>dtype:</b> int64</label>"
            ]
          },
          "metadata": {},
          "execution_count": 8
        }
      ],
      "source": [
        "# dengan informasi frekuensi dari masing-masing nilai unik\n",
        "df_clean['order_status'].value_counts()"
      ]
    },
    {
      "cell_type": "markdown",
      "id": "172c9031-f442-4de7-a7db-d88b17a6aeb0",
      "metadata": {
        "id": "172c9031-f442-4de7-a7db-d88b17a6aeb0"
      },
      "source": [
        "# Menghitung descriptive statistics dari DataFrame"
      ]
    },
    {
      "cell_type": "markdown",
      "id": "44faafe4-99bd-4d44-afaf-dfb2a000abcf",
      "metadata": {
        "id": "44faafe4-99bd-4d44-afaf-dfb2a000abcf"
      },
      "source": [
        "## Mengetahui statistik dari distribusi data numerik di keseluruhan kolom pada DataFrame sekaligus secara kuantitatif"
      ]
    },
    {
      "cell_type": "code",
      "execution_count": 9,
      "id": "7bfa971b-d109-4e78-82ae-df9d30ca07d0",
      "metadata": {
        "execution": {
          "iopub.execute_input": "2022-10-27T09:16:44.464655Z",
          "iopub.status.busy": "2022-10-27T09:16:44.464002Z",
          "iopub.status.idle": "2022-10-27T09:16:44.569462Z",
          "shell.execute_reply": "2022-10-27T09:16:44.568015Z",
          "shell.execute_reply.started": "2022-10-27T09:16:44.464616Z"
        },
        "tags": [],
        "id": "7bfa971b-d109-4e78-82ae-df9d30ca07d0",
        "outputId": "7c1fdc7c-b7cc-4c6a-8f12-e5c7219b0ef4",
        "colab": {
          "base_uri": "https://localhost:8080/",
          "height": 300
        }
      },
      "outputs": [
        {
          "output_type": "execute_result",
          "data": {
            "text/plain": [
              "            quantity          price         amount\n",
              "count  458246.000000  458246.000000  458246.000000\n",
              "mean       10.004764       4.903037      19.512293\n",
              "std        61.180755      99.536887     118.566258\n",
              "min         1.000000       0.001000       0.001000\n",
              "25%         1.000000       1.250000       3.750000\n",
              "50%         3.000000       2.100000       9.300000\n",
              "75%        10.000000       4.210000      17.000000\n",
              "max     10000.000000   25111.090000   25111.090000"
            ],
            "text/html": [
              "\n",
              "  <div id=\"df-4842068c-bebf-4c78-a235-6ad0551aa425\" class=\"colab-df-container\">\n",
              "    <div>\n",
              "<style scoped>\n",
              "    .dataframe tbody tr th:only-of-type {\n",
              "        vertical-align: middle;\n",
              "    }\n",
              "\n",
              "    .dataframe tbody tr th {\n",
              "        vertical-align: top;\n",
              "    }\n",
              "\n",
              "    .dataframe thead th {\n",
              "        text-align: right;\n",
              "    }\n",
              "</style>\n",
              "<table border=\"1\" class=\"dataframe\">\n",
              "  <thead>\n",
              "    <tr style=\"text-align: right;\">\n",
              "      <th></th>\n",
              "      <th>quantity</th>\n",
              "      <th>price</th>\n",
              "      <th>amount</th>\n",
              "    </tr>\n",
              "  </thead>\n",
              "  <tbody>\n",
              "    <tr>\n",
              "      <th>count</th>\n",
              "      <td>458246.000000</td>\n",
              "      <td>458246.000000</td>\n",
              "      <td>458246.000000</td>\n",
              "    </tr>\n",
              "    <tr>\n",
              "      <th>mean</th>\n",
              "      <td>10.004764</td>\n",
              "      <td>4.903037</td>\n",
              "      <td>19.512293</td>\n",
              "    </tr>\n",
              "    <tr>\n",
              "      <th>std</th>\n",
              "      <td>61.180755</td>\n",
              "      <td>99.536887</td>\n",
              "      <td>118.566258</td>\n",
              "    </tr>\n",
              "    <tr>\n",
              "      <th>min</th>\n",
              "      <td>1.000000</td>\n",
              "      <td>0.001000</td>\n",
              "      <td>0.001000</td>\n",
              "    </tr>\n",
              "    <tr>\n",
              "      <th>25%</th>\n",
              "      <td>1.000000</td>\n",
              "      <td>1.250000</td>\n",
              "      <td>3.750000</td>\n",
              "    </tr>\n",
              "    <tr>\n",
              "      <th>50%</th>\n",
              "      <td>3.000000</td>\n",
              "      <td>2.100000</td>\n",
              "      <td>9.300000</td>\n",
              "    </tr>\n",
              "    <tr>\n",
              "      <th>75%</th>\n",
              "      <td>10.000000</td>\n",
              "      <td>4.210000</td>\n",
              "      <td>17.000000</td>\n",
              "    </tr>\n",
              "    <tr>\n",
              "      <th>max</th>\n",
              "      <td>10000.000000</td>\n",
              "      <td>25111.090000</td>\n",
              "      <td>25111.090000</td>\n",
              "    </tr>\n",
              "  </tbody>\n",
              "</table>\n",
              "</div>\n",
              "    <div class=\"colab-df-buttons\">\n",
              "\n",
              "  <div class=\"colab-df-container\">\n",
              "    <button class=\"colab-df-convert\" onclick=\"convertToInteractive('df-4842068c-bebf-4c78-a235-6ad0551aa425')\"\n",
              "            title=\"Convert this dataframe to an interactive table.\"\n",
              "            style=\"display:none;\">\n",
              "\n",
              "  <svg xmlns=\"http://www.w3.org/2000/svg\" height=\"24px\" viewBox=\"0 -960 960 960\">\n",
              "    <path d=\"M120-120v-720h720v720H120Zm60-500h600v-160H180v160Zm220 220h160v-160H400v160Zm0 220h160v-160H400v160ZM180-400h160v-160H180v160Zm440 0h160v-160H620v160ZM180-180h160v-160H180v160Zm440 0h160v-160H620v160Z\"/>\n",
              "  </svg>\n",
              "    </button>\n",
              "\n",
              "  <style>\n",
              "    .colab-df-container {\n",
              "      display:flex;\n",
              "      gap: 12px;\n",
              "    }\n",
              "\n",
              "    .colab-df-convert {\n",
              "      background-color: #E8F0FE;\n",
              "      border: none;\n",
              "      border-radius: 50%;\n",
              "      cursor: pointer;\n",
              "      display: none;\n",
              "      fill: #1967D2;\n",
              "      height: 32px;\n",
              "      padding: 0 0 0 0;\n",
              "      width: 32px;\n",
              "    }\n",
              "\n",
              "    .colab-df-convert:hover {\n",
              "      background-color: #E2EBFA;\n",
              "      box-shadow: 0px 1px 2px rgba(60, 64, 67, 0.3), 0px 1px 3px 1px rgba(60, 64, 67, 0.15);\n",
              "      fill: #174EA6;\n",
              "    }\n",
              "\n",
              "    .colab-df-buttons div {\n",
              "      margin-bottom: 4px;\n",
              "    }\n",
              "\n",
              "    [theme=dark] .colab-df-convert {\n",
              "      background-color: #3B4455;\n",
              "      fill: #D2E3FC;\n",
              "    }\n",
              "\n",
              "    [theme=dark] .colab-df-convert:hover {\n",
              "      background-color: #434B5C;\n",
              "      box-shadow: 0px 1px 3px 1px rgba(0, 0, 0, 0.15);\n",
              "      filter: drop-shadow(0px 1px 2px rgba(0, 0, 0, 0.3));\n",
              "      fill: #FFFFFF;\n",
              "    }\n",
              "  </style>\n",
              "\n",
              "    <script>\n",
              "      const buttonEl =\n",
              "        document.querySelector('#df-4842068c-bebf-4c78-a235-6ad0551aa425 button.colab-df-convert');\n",
              "      buttonEl.style.display =\n",
              "        google.colab.kernel.accessAllowed ? 'block' : 'none';\n",
              "\n",
              "      async function convertToInteractive(key) {\n",
              "        const element = document.querySelector('#df-4842068c-bebf-4c78-a235-6ad0551aa425');\n",
              "        const dataTable =\n",
              "          await google.colab.kernel.invokeFunction('convertToInteractive',\n",
              "                                                    [key], {});\n",
              "        if (!dataTable) return;\n",
              "\n",
              "        const docLinkHtml = 'Like what you see? Visit the ' +\n",
              "          '<a target=\"_blank\" href=https://colab.research.google.com/notebooks/data_table.ipynb>data table notebook</a>'\n",
              "          + ' to learn more about interactive tables.';\n",
              "        element.innerHTML = '';\n",
              "        dataTable['output_type'] = 'display_data';\n",
              "        await google.colab.output.renderOutput(dataTable, element);\n",
              "        const docLink = document.createElement('div');\n",
              "        docLink.innerHTML = docLinkHtml;\n",
              "        element.appendChild(docLink);\n",
              "      }\n",
              "    </script>\n",
              "  </div>\n",
              "\n",
              "\n",
              "    <div id=\"df-5a4f9f95-3afc-4e42-9f1b-8fc56bc97d54\">\n",
              "      <button class=\"colab-df-quickchart\" onclick=\"quickchart('df-5a4f9f95-3afc-4e42-9f1b-8fc56bc97d54')\"\n",
              "                title=\"Suggest charts\"\n",
              "                style=\"display:none;\">\n",
              "\n",
              "<svg xmlns=\"http://www.w3.org/2000/svg\" height=\"24px\"viewBox=\"0 0 24 24\"\n",
              "     width=\"24px\">\n",
              "    <g>\n",
              "        <path d=\"M19 3H5c-1.1 0-2 .9-2 2v14c0 1.1.9 2 2 2h14c1.1 0 2-.9 2-2V5c0-1.1-.9-2-2-2zM9 17H7v-7h2v7zm4 0h-2V7h2v10zm4 0h-2v-4h2v4z\"/>\n",
              "    </g>\n",
              "</svg>\n",
              "      </button>\n",
              "\n",
              "<style>\n",
              "  .colab-df-quickchart {\n",
              "      --bg-color: #E8F0FE;\n",
              "      --fill-color: #1967D2;\n",
              "      --hover-bg-color: #E2EBFA;\n",
              "      --hover-fill-color: #174EA6;\n",
              "      --disabled-fill-color: #AAA;\n",
              "      --disabled-bg-color: #DDD;\n",
              "  }\n",
              "\n",
              "  [theme=dark] .colab-df-quickchart {\n",
              "      --bg-color: #3B4455;\n",
              "      --fill-color: #D2E3FC;\n",
              "      --hover-bg-color: #434B5C;\n",
              "      --hover-fill-color: #FFFFFF;\n",
              "      --disabled-bg-color: #3B4455;\n",
              "      --disabled-fill-color: #666;\n",
              "  }\n",
              "\n",
              "  .colab-df-quickchart {\n",
              "    background-color: var(--bg-color);\n",
              "    border: none;\n",
              "    border-radius: 50%;\n",
              "    cursor: pointer;\n",
              "    display: none;\n",
              "    fill: var(--fill-color);\n",
              "    height: 32px;\n",
              "    padding: 0;\n",
              "    width: 32px;\n",
              "  }\n",
              "\n",
              "  .colab-df-quickchart:hover {\n",
              "    background-color: var(--hover-bg-color);\n",
              "    box-shadow: 0 1px 2px rgba(60, 64, 67, 0.3), 0 1px 3px 1px rgba(60, 64, 67, 0.15);\n",
              "    fill: var(--button-hover-fill-color);\n",
              "  }\n",
              "\n",
              "  .colab-df-quickchart-complete:disabled,\n",
              "  .colab-df-quickchart-complete:disabled:hover {\n",
              "    background-color: var(--disabled-bg-color);\n",
              "    fill: var(--disabled-fill-color);\n",
              "    box-shadow: none;\n",
              "  }\n",
              "\n",
              "  .colab-df-spinner {\n",
              "    border: 2px solid var(--fill-color);\n",
              "    border-color: transparent;\n",
              "    border-bottom-color: var(--fill-color);\n",
              "    animation:\n",
              "      spin 1s steps(1) infinite;\n",
              "  }\n",
              "\n",
              "  @keyframes spin {\n",
              "    0% {\n",
              "      border-color: transparent;\n",
              "      border-bottom-color: var(--fill-color);\n",
              "      border-left-color: var(--fill-color);\n",
              "    }\n",
              "    20% {\n",
              "      border-color: transparent;\n",
              "      border-left-color: var(--fill-color);\n",
              "      border-top-color: var(--fill-color);\n",
              "    }\n",
              "    30% {\n",
              "      border-color: transparent;\n",
              "      border-left-color: var(--fill-color);\n",
              "      border-top-color: var(--fill-color);\n",
              "      border-right-color: var(--fill-color);\n",
              "    }\n",
              "    40% {\n",
              "      border-color: transparent;\n",
              "      border-right-color: var(--fill-color);\n",
              "      border-top-color: var(--fill-color);\n",
              "    }\n",
              "    60% {\n",
              "      border-color: transparent;\n",
              "      border-right-color: var(--fill-color);\n",
              "    }\n",
              "    80% {\n",
              "      border-color: transparent;\n",
              "      border-right-color: var(--fill-color);\n",
              "      border-bottom-color: var(--fill-color);\n",
              "    }\n",
              "    90% {\n",
              "      border-color: transparent;\n",
              "      border-bottom-color: var(--fill-color);\n",
              "    }\n",
              "  }\n",
              "</style>\n",
              "\n",
              "      <script>\n",
              "        async function quickchart(key) {\n",
              "          const quickchartButtonEl =\n",
              "            document.querySelector('#' + key + ' button');\n",
              "          quickchartButtonEl.disabled = true;  // To prevent multiple clicks.\n",
              "          quickchartButtonEl.classList.add('colab-df-spinner');\n",
              "          try {\n",
              "            const charts = await google.colab.kernel.invokeFunction(\n",
              "                'suggestCharts', [key], {});\n",
              "          } catch (error) {\n",
              "            console.error('Error during call to suggestCharts:', error);\n",
              "          }\n",
              "          quickchartButtonEl.classList.remove('colab-df-spinner');\n",
              "          quickchartButtonEl.classList.add('colab-df-quickchart-complete');\n",
              "        }\n",
              "        (() => {\n",
              "          let quickchartButtonEl =\n",
              "            document.querySelector('#df-5a4f9f95-3afc-4e42-9f1b-8fc56bc97d54 button');\n",
              "          quickchartButtonEl.style.display =\n",
              "            google.colab.kernel.accessAllowed ? 'block' : 'none';\n",
              "        })();\n",
              "      </script>\n",
              "    </div>\n",
              "\n",
              "    </div>\n",
              "  </div>\n"
            ],
            "application/vnd.google.colaboratory.intrinsic+json": {
              "type": "dataframe",
              "summary": "{\n  \"name\": \"df_clean\",\n  \"rows\": 8,\n  \"fields\": [\n    {\n      \"column\": \"quantity\",\n      \"properties\": {\n        \"dtype\": \"number\",\n        \"std\": 161542.7944058091,\n        \"min\": 1.0,\n        \"max\": 458246.0,\n        \"num_unique_values\": 7,\n        \"samples\": [\n          458246.0,\n          10.004763816814549,\n          10.0\n        ],\n        \"semantic_type\": \"\",\n        \"description\": \"\"\n      }\n    },\n    {\n      \"column\": \"price\",\n      \"properties\": {\n        \"dtype\": \"number\",\n        \"std\": 160980.11326933405,\n        \"min\": 0.001,\n        \"max\": 458246.0,\n        \"num_unique_values\": 8,\n        \"samples\": [\n          4.903036541508273,\n          2.1,\n          458246.0\n        ],\n        \"semantic_type\": \"\",\n        \"description\": \"\"\n      }\n    },\n    {\n      \"column\": \"amount\",\n      \"properties\": {\n        \"dtype\": \"number\",\n        \"std\": 160977.10504582667,\n        \"min\": 0.001,\n        \"max\": 458246.0,\n        \"num_unique_values\": 8,\n        \"samples\": [\n          19.51229294527394,\n          9.3,\n          458246.0\n        ],\n        \"semantic_type\": \"\",\n        \"description\": \"\"\n      }\n    }\n  ]\n}"
            }
          },
          "metadata": {},
          "execution_count": 9
        }
      ],
      "source": [
        "df_clean.describe()"
      ]
    },
    {
      "cell_type": "markdown",
      "id": "1d31cac8-d1dc-4cd6-b49b-c42c086fd1f5",
      "metadata": {
        "tags": [],
        "id": "1d31cac8-d1dc-4cd6-b49b-c42c086fd1f5"
      },
      "source": [
        "## Mengetahui statistik tertentu secara individual"
      ]
    },
    {
      "cell_type": "code",
      "execution_count": 10,
      "id": "0c1bcc39-0aa6-4a62-b41a-f0811e6fdc6d",
      "metadata": {
        "execution": {
          "iopub.execute_input": "2022-10-27T09:20:32.919496Z",
          "iopub.status.busy": "2022-10-27T09:20:32.919176Z",
          "iopub.status.idle": "2022-10-27T09:20:32.959863Z",
          "shell.execute_reply": "2022-10-27T09:20:32.958717Z",
          "shell.execute_reply.started": "2022-10-27T09:20:32.919465Z"
        },
        "tags": [],
        "id": "0c1bcc39-0aa6-4a62-b41a-f0811e6fdc6d",
        "outputId": "23690830-3412-47bb-a4c4-fafbdd6e5bd3",
        "colab": {
          "base_uri": "https://localhost:8080/"
        }
      },
      "outputs": [
        {
          "output_type": "execute_result",
          "data": {
            "text/plain": [
              "np.int64(458246)"
            ]
          },
          "metadata": {},
          "execution_count": 10
        }
      ],
      "source": [
        "# frekuensi (frequency) - tak unik\n",
        "df_clean['order_id'].count()"
      ]
    },
    {
      "cell_type": "code",
      "execution_count": 11,
      "id": "8977e20e-57a8-49fd-9699-9e72557bd0df",
      "metadata": {
        "execution": {
          "iopub.execute_input": "2022-10-27T09:21:16.751347Z",
          "iopub.status.busy": "2022-10-27T09:21:16.750906Z",
          "iopub.status.idle": "2022-10-27T09:21:16.812109Z",
          "shell.execute_reply": "2022-10-27T09:21:16.811098Z",
          "shell.execute_reply.started": "2022-10-27T09:21:16.751322Z"
        },
        "tags": [],
        "id": "8977e20e-57a8-49fd-9699-9e72557bd0df",
        "outputId": "004e3513-c0a3-4d24-f45c-d1de1b50a9c0",
        "colab": {
          "base_uri": "https://localhost:8080/"
        }
      },
      "outputs": [
        {
          "output_type": "execute_result",
          "data": {
            "text/plain": [
              "22244"
            ]
          },
          "metadata": {},
          "execution_count": 11
        }
      ],
      "source": [
        "# frekuensi (frequency) - unik\n",
        "df_clean['order_id'].nunique()"
      ]
    },
    {
      "cell_type": "code",
      "execution_count": 12,
      "id": "c5df3ed4-44f7-4dba-822a-fbf29cbf5f51",
      "metadata": {
        "execution": {
          "iopub.execute_input": "2022-10-27T09:21:45.265874Z",
          "iopub.status.busy": "2022-10-27T09:21:45.265601Z",
          "iopub.status.idle": "2022-10-27T09:21:45.283707Z",
          "shell.execute_reply": "2022-10-27T09:21:45.280729Z",
          "shell.execute_reply.started": "2022-10-27T09:21:45.265846Z"
        },
        "tags": [],
        "id": "c5df3ed4-44f7-4dba-822a-fbf29cbf5f51",
        "outputId": "bcda9dda-df1d-4f31-ac90-40053a9a81f1",
        "colab": {
          "base_uri": "https://localhost:8080/"
        }
      },
      "outputs": [
        {
          "output_type": "execute_result",
          "data": {
            "text/plain": [
              "np.int64(4584643)"
            ]
          },
          "metadata": {},
          "execution_count": 12
        }
      ],
      "source": [
        "# jumlahan (sum)\n",
        "df_clean['quantity'].sum()"
      ]
    },
    {
      "cell_type": "code",
      "execution_count": 13,
      "id": "bb4454f6-8efa-4c80-8eb0-cebad50df008",
      "metadata": {
        "execution": {
          "iopub.execute_input": "2022-10-27T09:22:29.015175Z",
          "iopub.status.busy": "2022-10-27T09:22:29.013667Z",
          "iopub.status.idle": "2022-10-27T09:22:29.464710Z",
          "shell.execute_reply": "2022-10-27T09:22:29.461995Z",
          "shell.execute_reply.started": "2022-10-27T09:22:29.015138Z"
        },
        "tags": [],
        "id": "bb4454f6-8efa-4c80-8eb0-cebad50df008",
        "outputId": "1bbb26dd-013a-4ddc-fe1f-5bea4d09990a",
        "colab": {
          "base_uri": "https://localhost:8080/"
        }
      },
      "outputs": [
        {
          "output_type": "execute_result",
          "data": {
            "text/plain": [
              "np.int64(166722)"
            ]
          },
          "metadata": {},
          "execution_count": 13
        }
      ],
      "source": [
        "# jumlahan (sum) subset dari data\n",
        "df_clean.loc[df_clean['product_name'].str.contains('tea'), 'quantity'].sum()"
      ]
    },
    {
      "cell_type": "code",
      "execution_count": 14,
      "id": "2d67feb1-7f6e-4cc4-9b83-c28984ada47c",
      "metadata": {
        "execution": {
          "iopub.execute_input": "2022-10-27T09:23:18.881501Z",
          "iopub.status.busy": "2022-10-27T09:23:18.880422Z",
          "iopub.status.idle": "2022-10-27T09:23:18.894941Z",
          "shell.execute_reply": "2022-10-27T09:23:18.893919Z",
          "shell.execute_reply.started": "2022-10-27T09:23:18.881460Z"
        },
        "tags": [],
        "id": "2d67feb1-7f6e-4cc4-9b83-c28984ada47c",
        "outputId": "d7f3779d-6333-4b13-c16e-d39b77347b2f",
        "colab": {
          "base_uri": "https://localhost:8080/"
        }
      },
      "outputs": [
        {
          "output_type": "execute_result",
          "data": {
            "text/plain": [
              "np.float64(10.004763816814549)"
            ]
          },
          "metadata": {},
          "execution_count": 14
        }
      ],
      "source": [
        "# rata-rata (mean)\n",
        "df_clean['quantity'].mean()"
      ]
    },
    {
      "cell_type": "code",
      "execution_count": 15,
      "id": "4aa4fd34-1a79-4ffc-b05a-2c5e10e0f1b5",
      "metadata": {
        "execution": {
          "iopub.execute_input": "2022-10-27T09:23:29.931166Z",
          "iopub.status.busy": "2022-10-27T09:23:29.929480Z",
          "iopub.status.idle": "2022-10-27T09:23:30.466232Z",
          "shell.execute_reply": "2022-10-27T09:23:30.464871Z",
          "shell.execute_reply.started": "2022-10-27T09:23:29.931122Z"
        },
        "tags": [],
        "id": "4aa4fd34-1a79-4ffc-b05a-2c5e10e0f1b5",
        "outputId": "c714af07-9a2c-4c52-b8d8-95999659dd94",
        "colab": {
          "base_uri": "https://localhost:8080/"
        }
      },
      "outputs": [
        {
          "output_type": "execute_result",
          "data": {
            "text/plain": [
              "np.float64(9.657205746061168)"
            ]
          },
          "metadata": {},
          "execution_count": 15
        }
      ],
      "source": [
        "# rata-rata (mean) subset dari data\n",
        "df_clean.loc[df_clean['product_name'].str.contains('tea'), 'quantity'].mean()"
      ]
    },
    {
      "cell_type": "code",
      "execution_count": 16,
      "id": "e8f79fd1-209c-4ee7-aa1c-d7fb741fcbce",
      "metadata": {
        "execution": {
          "iopub.execute_input": "2022-10-27T09:23:32.626828Z",
          "iopub.status.busy": "2022-10-27T09:23:32.626562Z",
          "iopub.status.idle": "2022-10-27T09:23:32.695007Z",
          "shell.execute_reply": "2022-10-27T09:23:32.679625Z",
          "shell.execute_reply.started": "2022-10-27T09:23:32.626804Z"
        },
        "tags": [],
        "id": "e8f79fd1-209c-4ee7-aa1c-d7fb741fcbce",
        "outputId": "f03ba156-7a6a-4173-e935-cba795b763f8",
        "colab": {
          "base_uri": "https://localhost:8080/"
        }
      },
      "outputs": [
        {
          "output_type": "execute_result",
          "data": {
            "text/plain": [
              "3.0"
            ]
          },
          "metadata": {},
          "execution_count": 16
        }
      ],
      "source": [
        "# median\n",
        "df_clean['quantity'].median()"
      ]
    },
    {
      "cell_type": "code",
      "execution_count": 17,
      "id": "5d7dde9d-0df9-4eab-95ba-9ae4ba20a407",
      "metadata": {
        "execution": {
          "iopub.execute_input": "2022-10-27T09:23:33.749847Z",
          "iopub.status.busy": "2022-10-27T09:23:33.746994Z",
          "iopub.status.idle": "2022-10-27T09:23:34.086047Z",
          "shell.execute_reply": "2022-10-27T09:23:34.083569Z",
          "shell.execute_reply.started": "2022-10-27T09:23:33.749779Z"
        },
        "tags": [],
        "id": "5d7dde9d-0df9-4eab-95ba-9ae4ba20a407",
        "outputId": "a0a0e2de-f962-4d21-e26f-ef15a7fe3961",
        "colab": {
          "base_uri": "https://localhost:8080/"
        }
      },
      "outputs": [
        {
          "output_type": "execute_result",
          "data": {
            "text/plain": [
              "3.0"
            ]
          },
          "metadata": {},
          "execution_count": 17
        }
      ],
      "source": [
        "# median subset dari data\n",
        "df_clean.loc[df_clean['product_name'].str.contains('tea'), 'quantity'].median()"
      ]
    },
    {
      "cell_type": "code",
      "execution_count": 18,
      "id": "a580c20e-53bd-4d94-8d8e-6fb507acaedc",
      "metadata": {
        "execution": {
          "iopub.execute_input": "2022-10-27T09:23:35.673591Z",
          "iopub.status.busy": "2022-10-27T09:23:35.671264Z",
          "iopub.status.idle": "2022-10-27T09:23:35.707167Z",
          "shell.execute_reply": "2022-10-27T09:23:35.696765Z",
          "shell.execute_reply.started": "2022-10-27T09:23:35.673556Z"
        },
        "tags": [],
        "id": "a580c20e-53bd-4d94-8d8e-6fb507acaedc",
        "outputId": "41b553de-a98c-4a7d-bb4b-1686b3645819",
        "colab": {
          "base_uri": "https://localhost:8080/"
        }
      },
      "outputs": [
        {
          "output_type": "execute_result",
          "data": {
            "text/plain": [
              "np.int64(1)"
            ]
          },
          "metadata": {},
          "execution_count": 18
        }
      ],
      "source": [
        "# modus (mode)\n",
        "df_clean['quantity'].mode()[0]"
      ]
    },
    {
      "cell_type": "code",
      "execution_count": 19,
      "id": "70435a63-18f2-44d1-af75-b36ab1580b71",
      "metadata": {
        "execution": {
          "iopub.execute_input": "2022-10-27T09:23:36.440835Z",
          "iopub.status.busy": "2022-10-27T09:23:36.440502Z",
          "iopub.status.idle": "2022-10-27T09:23:36.832542Z",
          "shell.execute_reply": "2022-10-27T09:23:36.830945Z",
          "shell.execute_reply.started": "2022-10-27T09:23:36.440800Z"
        },
        "tags": [],
        "id": "70435a63-18f2-44d1-af75-b36ab1580b71",
        "outputId": "17e9ba6c-7970-4551-f8a1-5f4b53c2f81c",
        "colab": {
          "base_uri": "https://localhost:8080/"
        }
      },
      "outputs": [
        {
          "output_type": "execute_result",
          "data": {
            "text/plain": [
              "np.int64(1)"
            ]
          },
          "metadata": {},
          "execution_count": 19
        }
      ],
      "source": [
        "# modus (mode) subset dari data\n",
        "df_clean.loc[df_clean['product_name'].str.contains('tea'), 'quantity'].mode()[0]"
      ]
    },
    {
      "cell_type": "code",
      "execution_count": 20,
      "id": "4eb0f030-78c3-4ec6-b61d-dbf8c6e7f01d",
      "metadata": {
        "execution": {
          "iopub.execute_input": "2022-10-27T09:24:44.125778Z",
          "iopub.status.busy": "2022-10-27T09:24:44.125311Z",
          "iopub.status.idle": "2022-10-27T09:24:44.156838Z",
          "shell.execute_reply": "2022-10-27T09:24:44.145085Z",
          "shell.execute_reply.started": "2022-10-27T09:24:44.125746Z"
        },
        "tags": [],
        "id": "4eb0f030-78c3-4ec6-b61d-dbf8c6e7f01d",
        "outputId": "811f24ba-04ce-4202-f6e5-3c535f1d2bd4",
        "colab": {
          "base_uri": "https://localhost:8080/"
        }
      },
      "outputs": [
        {
          "output_type": "execute_result",
          "data": {
            "text/plain": [
              "9999"
            ]
          },
          "metadata": {},
          "execution_count": 20
        }
      ],
      "source": [
        "# jangkauan (range)\n",
        "df_clean['quantity'].max() - df_clean['quantity'].min()"
      ]
    },
    {
      "cell_type": "code",
      "execution_count": 21,
      "id": "ce1daec8-3bf9-46a3-aa61-0e3705ceb6cd",
      "metadata": {
        "execution": {
          "iopub.execute_input": "2022-10-27T09:24:56.811382Z",
          "iopub.status.busy": "2022-10-27T09:24:56.811059Z",
          "iopub.status.idle": "2022-10-27T09:24:57.411476Z",
          "shell.execute_reply": "2022-10-27T09:24:57.408656Z",
          "shell.execute_reply.started": "2022-10-27T09:24:56.811351Z"
        },
        "tags": [],
        "id": "ce1daec8-3bf9-46a3-aa61-0e3705ceb6cd",
        "outputId": "e1ffb557-a2de-4df8-b7ca-d078cd7748e0",
        "colab": {
          "base_uri": "https://localhost:8080/"
        }
      },
      "outputs": [
        {
          "output_type": "execute_result",
          "data": {
            "text/plain": [
              "4607"
            ]
          },
          "metadata": {},
          "execution_count": 21
        }
      ],
      "source": [
        "# jangkauan (range) subset dari data\n",
        "df_clean.loc[df_clean['product_name'].str.contains('tea'), 'quantity'].max() - df_clean.loc[df_clean['product_name'].str.contains('tea'), 'quantity'].min()"
      ]
    },
    {
      "cell_type": "code",
      "execution_count": 22,
      "id": "54fbff3f-204a-4293-8b94-26eb3be2e7a7",
      "metadata": {
        "execution": {
          "iopub.execute_input": "2022-10-27T09:25:26.200437Z",
          "iopub.status.busy": "2022-10-27T09:25:26.199934Z",
          "iopub.status.idle": "2022-10-27T09:25:26.222808Z",
          "shell.execute_reply": "2022-10-27T09:25:26.220395Z",
          "shell.execute_reply.started": "2022-10-27T09:25:26.200268Z"
        },
        "tags": [],
        "id": "54fbff3f-204a-4293-8b94-26eb3be2e7a7",
        "outputId": "86833126-709b-4493-a0d6-63bcd8e8a53a",
        "colab": {
          "base_uri": "https://localhost:8080/"
        }
      },
      "outputs": [
        {
          "output_type": "execute_result",
          "data": {
            "text/plain": [
              "61.18075511600227"
            ]
          },
          "metadata": {},
          "execution_count": 22
        }
      ],
      "source": [
        "# simpangan baku (standard deviation)\n",
        "df_clean['quantity'].std()"
      ]
    },
    {
      "cell_type": "code",
      "execution_count": 23,
      "id": "6c331aa7-6a53-409e-a734-d701b4edfadf",
      "metadata": {
        "execution": {
          "iopub.execute_input": "2022-10-27T09:25:27.418684Z",
          "iopub.status.busy": "2022-10-27T09:25:27.417221Z",
          "iopub.status.idle": "2022-10-27T09:25:27.753152Z",
          "shell.execute_reply": "2022-10-27T09:25:27.752396Z",
          "shell.execute_reply.started": "2022-10-27T09:25:27.418643Z"
        },
        "tags": [],
        "id": "6c331aa7-6a53-409e-a734-d701b4edfadf",
        "outputId": "0201b21d-e923-47fe-88b2-8f86da09c98c",
        "colab": {
          "base_uri": "https://localhost:8080/"
        }
      },
      "outputs": [
        {
          "output_type": "execute_result",
          "data": {
            "text/plain": [
              "44.8225496763168"
            ]
          },
          "metadata": {},
          "execution_count": 23
        }
      ],
      "source": [
        "# simpangan baku (standard deviation) subset dari data\n",
        "df_clean.loc[df_clean['product_name'].str.contains('tea'), 'quantity'].std()"
      ]
    },
    {
      "cell_type": "code",
      "execution_count": 24,
      "id": "c8a11913-7695-425e-be42-83ed7ec2a230",
      "metadata": {
        "execution": {
          "iopub.execute_input": "2022-10-27T09:25:28.935140Z",
          "iopub.status.busy": "2022-10-27T09:25:28.934351Z",
          "iopub.status.idle": "2022-10-27T09:25:28.954163Z",
          "shell.execute_reply": "2022-10-27T09:25:28.953426Z",
          "shell.execute_reply.started": "2022-10-27T09:25:28.935101Z"
        },
        "tags": [],
        "id": "c8a11913-7695-425e-be42-83ed7ec2a230",
        "outputId": "8d1886be-1d37-4928-dd6b-d2835e8f6e89",
        "colab": {
          "base_uri": "https://localhost:8080/"
        }
      },
      "outputs": [
        {
          "output_type": "execute_result",
          "data": {
            "text/plain": [
              "3743.084796564238"
            ]
          },
          "metadata": {},
          "execution_count": 24
        }
      ],
      "source": [
        "# varians (variance)\n",
        "df_clean['quantity'].var()"
      ]
    },
    {
      "cell_type": "code",
      "execution_count": 25,
      "id": "1448fd68-2a2b-429a-86ec-f5dc1a7bb7fb",
      "metadata": {
        "execution": {
          "iopub.execute_input": "2022-10-27T09:25:47.262257Z",
          "iopub.status.busy": "2022-10-27T09:25:47.260369Z",
          "iopub.status.idle": "2022-10-27T09:25:47.274417Z",
          "shell.execute_reply": "2022-10-27T09:25:47.273661Z",
          "shell.execute_reply.started": "2022-10-27T09:25:47.262203Z"
        },
        "tags": [],
        "id": "1448fd68-2a2b-429a-86ec-f5dc1a7bb7fb",
        "outputId": "a13115b0-0b9c-4b63-bfdd-d256326af8bc",
        "colab": {
          "base_uri": "https://localhost:8080/"
        }
      },
      "outputs": [
        {
          "output_type": "execute_result",
          "data": {
            "text/plain": [
              "3743.0847965642374"
            ]
          },
          "metadata": {},
          "execution_count": 25
        }
      ],
      "source": [
        "df_clean['quantity'].std()**2"
      ]
    },
    {
      "cell_type": "code",
      "execution_count": 26,
      "id": "f5e2444f-3a5d-4b74-b018-dd458056d51c",
      "metadata": {
        "execution": {
          "iopub.execute_input": "2022-10-26T15:35:58.675320Z",
          "iopub.status.busy": "2022-10-26T15:35:58.675030Z",
          "iopub.status.idle": "2022-10-26T15:35:58.860717Z",
          "shell.execute_reply": "2022-10-26T15:35:58.859776Z",
          "shell.execute_reply.started": "2022-10-26T15:35:58.675295Z"
        },
        "id": "f5e2444f-3a5d-4b74-b018-dd458056d51c",
        "outputId": "889334c3-eafd-448f-f9ce-9d8ac19f0c5f",
        "colab": {
          "base_uri": "https://localhost:8080/"
        }
      },
      "outputs": [
        {
          "output_type": "execute_result",
          "data": {
            "text/plain": [
              "2009.0609594858872"
            ]
          },
          "metadata": {},
          "execution_count": 26
        }
      ],
      "source": [
        "# varians (variance) subset dari data\n",
        "df_clean.loc[df_clean['product_name'].str.contains('tea'), 'quantity'].var()"
      ]
    },
    {
      "cell_type": "code",
      "execution_count": 27,
      "id": "8b246141-0387-4407-8848-2ddd8ff83691",
      "metadata": {
        "execution": {
          "iopub.execute_input": "2022-10-27T09:26:30.535756Z",
          "iopub.status.busy": "2022-10-27T09:26:30.535277Z",
          "iopub.status.idle": "2022-10-27T09:26:30.578077Z",
          "shell.execute_reply": "2022-10-27T09:26:30.575562Z",
          "shell.execute_reply.started": "2022-10-27T09:26:30.535725Z"
        },
        "tags": [],
        "id": "8b246141-0387-4407-8848-2ddd8ff83691",
        "outputId": "50759578-8c5d-4adb-d6b6-b12c8ff8f084",
        "colab": {
          "base_uri": "https://localhost:8080/"
        }
      },
      "outputs": [
        {
          "output_type": "execute_result",
          "data": {
            "text/plain": [
              "np.float64(1.0)"
            ]
          },
          "metadata": {},
          "execution_count": 27
        }
      ],
      "source": [
        "# kuartil bawah (lower quartile)\n",
        "df_clean['quantity'].quantile(.25)"
      ]
    },
    {
      "cell_type": "code",
      "execution_count": 28,
      "id": "a4e99710-3941-4e72-9861-1a11892bd135",
      "metadata": {
        "execution": {
          "iopub.execute_input": "2022-10-27T09:26:31.737718Z",
          "iopub.status.busy": "2022-10-27T09:26:31.737375Z",
          "iopub.status.idle": "2022-10-27T09:26:32.095449Z",
          "shell.execute_reply": "2022-10-27T09:26:32.073627Z",
          "shell.execute_reply.started": "2022-10-27T09:26:31.737683Z"
        },
        "tags": [],
        "id": "a4e99710-3941-4e72-9861-1a11892bd135",
        "outputId": "15f614ad-41b1-4fab-a067-456be03139a5",
        "colab": {
          "base_uri": "https://localhost:8080/"
        }
      },
      "outputs": [
        {
          "output_type": "execute_result",
          "data": {
            "text/plain": [
              "np.float64(1.0)"
            ]
          },
          "metadata": {},
          "execution_count": 28
        }
      ],
      "source": [
        "# kuartil bawah (lower quartile) subset dari data\n",
        "df_clean.loc[df_clean['product_name'].str.contains('tea'), 'quantity'].quantile(.25)"
      ]
    },
    {
      "cell_type": "code",
      "execution_count": 29,
      "id": "99bd2f69-92a7-44c0-a279-27419b38f34a",
      "metadata": {
        "execution": {
          "iopub.execute_input": "2022-10-27T09:26:40.477562Z",
          "iopub.status.busy": "2022-10-27T09:26:40.476910Z",
          "iopub.status.idle": "2022-10-27T09:26:40.547476Z",
          "shell.execute_reply": "2022-10-27T09:26:40.542206Z",
          "shell.execute_reply.started": "2022-10-27T09:26:40.477524Z"
        },
        "tags": [],
        "id": "99bd2f69-92a7-44c0-a279-27419b38f34a",
        "outputId": "78f67e0b-f056-47ef-d8f2-9779edf804d8",
        "colab": {
          "base_uri": "https://localhost:8080/"
        }
      },
      "outputs": [
        {
          "output_type": "execute_result",
          "data": {
            "text/plain": [
              "np.float64(10.0)"
            ]
          },
          "metadata": {},
          "execution_count": 29
        }
      ],
      "source": [
        "# kuartil atas (upper quartile)\n",
        "df_clean['quantity'].quantile(.75)"
      ]
    },
    {
      "cell_type": "code",
      "execution_count": 30,
      "id": "51532f10-216d-4f54-b5c1-3e249a461abd",
      "metadata": {
        "execution": {
          "iopub.execute_input": "2022-10-27T09:26:41.191939Z",
          "iopub.status.busy": "2022-10-27T09:26:41.191280Z",
          "iopub.status.idle": "2022-10-27T09:26:41.593817Z",
          "shell.execute_reply": "2022-10-27T09:26:41.587554Z",
          "shell.execute_reply.started": "2022-10-27T09:26:41.191897Z"
        },
        "tags": [],
        "id": "51532f10-216d-4f54-b5c1-3e249a461abd",
        "outputId": "447fbc01-abb4-4f42-889b-2eb9659605b3",
        "colab": {
          "base_uri": "https://localhost:8080/"
        }
      },
      "outputs": [
        {
          "output_type": "execute_result",
          "data": {
            "text/plain": [
              "np.float64(8.0)"
            ]
          },
          "metadata": {},
          "execution_count": 30
        }
      ],
      "source": [
        "# kuartil atas (upper quartile) subset dari data\n",
        "df_clean.loc[df_clean['product_name'].str.contains('tea'), 'quantity'].quantile(.75)"
      ]
    },
    {
      "cell_type": "code",
      "execution_count": 31,
      "id": "6afcb4e5-e20b-4223-adff-c51fb9486ef0",
      "metadata": {
        "execution": {
          "iopub.execute_input": "2022-10-27T09:26:49.581029Z",
          "iopub.status.busy": "2022-10-27T09:26:49.580567Z",
          "iopub.status.idle": "2022-10-27T09:26:49.667191Z",
          "shell.execute_reply": "2022-10-27T09:26:49.660826Z",
          "shell.execute_reply.started": "2022-10-27T09:26:49.580997Z"
        },
        "tags": [],
        "id": "6afcb4e5-e20b-4223-adff-c51fb9486ef0",
        "outputId": "4d5e0ae8-d509-4146-f40a-5d7f8c88d568",
        "colab": {
          "base_uri": "https://localhost:8080/"
        }
      },
      "outputs": [
        {
          "output_type": "execute_result",
          "data": {
            "text/plain": [
              "np.float64(9.0)"
            ]
          },
          "metadata": {},
          "execution_count": 31
        }
      ],
      "source": [
        "# jangkauan interkuartil (interquartile range)\n",
        "df_clean['quantity'].quantile(.75) - df_clean['quantity'].quantile(.25)"
      ]
    },
    {
      "cell_type": "code",
      "execution_count": 32,
      "id": "0ae7f7d6-30c0-441d-8a30-45c3bebc9dc4",
      "metadata": {
        "execution": {
          "iopub.execute_input": "2022-10-27T09:26:50.739712Z",
          "iopub.status.busy": "2022-10-27T09:26:50.739365Z",
          "iopub.status.idle": "2022-10-27T09:26:51.293970Z",
          "shell.execute_reply": "2022-10-27T09:26:51.293352Z",
          "shell.execute_reply.started": "2022-10-27T09:26:50.739681Z"
        },
        "tags": [],
        "id": "0ae7f7d6-30c0-441d-8a30-45c3bebc9dc4",
        "outputId": "e06ac3fa-3d3b-4e57-f3ba-06f99d5182de",
        "colab": {
          "base_uri": "https://localhost:8080/"
        }
      },
      "outputs": [
        {
          "output_type": "execute_result",
          "data": {
            "text/plain": [
              "np.float64(7.0)"
            ]
          },
          "metadata": {},
          "execution_count": 32
        }
      ],
      "source": [
        "# jangkauan interkuartil (interquartile range) subset dari data\n",
        "df_clean.loc[df_clean['product_name'].str.contains('tea'), 'quantity'].quantile(.75) - df_clean.loc[df_clean['product_name'].str.contains('tea'), 'quantity'].quantile(.25)"
      ]
    },
    {
      "cell_type": "code",
      "execution_count": 33,
      "id": "1f278b55-72a8-4731-bf43-1ccb8a3b580c",
      "metadata": {
        "execution": {
          "iopub.execute_input": "2022-10-27T09:27:56.927263Z",
          "iopub.status.busy": "2022-10-27T09:27:56.926847Z",
          "iopub.status.idle": "2022-10-27T09:27:56.934007Z",
          "shell.execute_reply": "2022-10-27T09:27:56.930492Z",
          "shell.execute_reply.started": "2022-10-27T09:27:56.927233Z"
        },
        "tags": [],
        "id": "1f278b55-72a8-4731-bf43-1ccb8a3b580c"
      },
      "outputs": [],
      "source": [
        "def iqr(x):\n",
        "    q1 = x.quantile(.25)\n",
        "    q3 = x.quantile(.75)\n",
        "    return q3-q1"
      ]
    },
    {
      "cell_type": "code",
      "execution_count": 34,
      "id": "20428cfb-8378-49bb-9017-777b82c4ba2e",
      "metadata": {
        "execution": {
          "iopub.execute_input": "2022-10-27T09:28:17.858526Z",
          "iopub.status.busy": "2022-10-27T09:28:17.858076Z",
          "iopub.status.idle": "2022-10-27T09:28:18.374420Z",
          "shell.execute_reply": "2022-10-27T09:28:18.356157Z",
          "shell.execute_reply.started": "2022-10-27T09:28:17.858483Z"
        },
        "tags": [],
        "id": "20428cfb-8378-49bb-9017-777b82c4ba2e",
        "outputId": "e127e0e0-ec0e-45d5-ad31-5e7e794d1892",
        "colab": {
          "base_uri": "https://localhost:8080/"
        }
      },
      "outputs": [
        {
          "output_type": "execute_result",
          "data": {
            "text/plain": [
              "np.float64(7.0)"
            ]
          },
          "metadata": {},
          "execution_count": 34
        }
      ],
      "source": [
        "iqr(df_clean.loc[df_clean['product_name'].str.contains('tea'), 'quantity'])"
      ]
    },
    {
      "cell_type": "markdown",
      "id": "fe352993-3466-4908-a61c-2946ca74534d",
      "metadata": {
        "id": "fe352993-3466-4908-a61c-2946ca74534d"
      },
      "source": [
        "# Menghitung descriptive statistics dengan grouping"
      ]
    },
    {
      "cell_type": "markdown",
      "id": "1f84d8a1-6626-488a-8185-8d1009f0dd5a",
      "metadata": {
        "id": "1f84d8a1-6626-488a-8185-8d1009f0dd5a"
      },
      "source": [
        "## Agregat dari 1 kolom saja"
      ]
    },
    {
      "cell_type": "code",
      "execution_count": 35,
      "id": "522e8a59-6102-4df4-bb89-889e1f7159df",
      "metadata": {
        "execution": {
          "iopub.execute_input": "2022-10-27T09:33:23.303562Z",
          "iopub.status.busy": "2022-10-27T09:33:23.296984Z",
          "iopub.status.idle": "2022-10-27T09:33:23.829534Z",
          "shell.execute_reply": "2022-10-27T09:33:23.825147Z",
          "shell.execute_reply.started": "2022-10-27T09:33:23.303519Z"
        },
        "tags": [],
        "id": "522e8a59-6102-4df4-bb89-889e1f7159df",
        "outputId": "50f676b4-db27-4b0e-8b8d-b2197b603336",
        "colab": {
          "base_uri": "https://localhost:8080/",
          "height": 490
        }
      },
      "outputs": [
        {
          "output_type": "execute_result",
          "data": {
            "text/plain": [
              "product_name\n",
              "60 teatime fairy cake cases           27584\n",
              "antique silver tea glass etched       17190\n",
              "moroccan tea glass                     7218\n",
              "antique silver tea glass engraved      6941\n",
              "potting shed tea mug                   6222\n",
              "                                      ...  \n",
              "english rose tea set in gift box          5\n",
              "light topaz teal/aqua col necklace        4\n",
              "ceramic cake teapot with cherry           3\n",
              "dotcomgiftshop tea towel                  2\n",
              "teatime round cake tins                   1\n",
              "Name: quantity, Length: 87, dtype: int64"
            ],
            "text/html": [
              "<div>\n",
              "<style scoped>\n",
              "    .dataframe tbody tr th:only-of-type {\n",
              "        vertical-align: middle;\n",
              "    }\n",
              "\n",
              "    .dataframe tbody tr th {\n",
              "        vertical-align: top;\n",
              "    }\n",
              "\n",
              "    .dataframe thead th {\n",
              "        text-align: right;\n",
              "    }\n",
              "</style>\n",
              "<table border=\"1\" class=\"dataframe\">\n",
              "  <thead>\n",
              "    <tr style=\"text-align: right;\">\n",
              "      <th></th>\n",
              "      <th>quantity</th>\n",
              "    </tr>\n",
              "    <tr>\n",
              "      <th>product_name</th>\n",
              "      <th></th>\n",
              "    </tr>\n",
              "  </thead>\n",
              "  <tbody>\n",
              "    <tr>\n",
              "      <th>60 teatime fairy cake cases</th>\n",
              "      <td>27584</td>\n",
              "    </tr>\n",
              "    <tr>\n",
              "      <th>antique silver tea glass etched</th>\n",
              "      <td>17190</td>\n",
              "    </tr>\n",
              "    <tr>\n",
              "      <th>moroccan tea glass</th>\n",
              "      <td>7218</td>\n",
              "    </tr>\n",
              "    <tr>\n",
              "      <th>antique silver tea glass engraved</th>\n",
              "      <td>6941</td>\n",
              "    </tr>\n",
              "    <tr>\n",
              "      <th>potting shed tea mug</th>\n",
              "      <td>6222</td>\n",
              "    </tr>\n",
              "    <tr>\n",
              "      <th>...</th>\n",
              "      <td>...</td>\n",
              "    </tr>\n",
              "    <tr>\n",
              "      <th>english rose tea set in gift box</th>\n",
              "      <td>5</td>\n",
              "    </tr>\n",
              "    <tr>\n",
              "      <th>light topaz teal/aqua col necklace</th>\n",
              "      <td>4</td>\n",
              "    </tr>\n",
              "    <tr>\n",
              "      <th>ceramic cake teapot with cherry</th>\n",
              "      <td>3</td>\n",
              "    </tr>\n",
              "    <tr>\n",
              "      <th>dotcomgiftshop tea towel</th>\n",
              "      <td>2</td>\n",
              "    </tr>\n",
              "    <tr>\n",
              "      <th>teatime round cake tins</th>\n",
              "      <td>1</td>\n",
              "    </tr>\n",
              "  </tbody>\n",
              "</table>\n",
              "<p>87 rows × 1 columns</p>\n",
              "</div><br><label><b>dtype:</b> int64</label>"
            ]
          },
          "metadata": {},
          "execution_count": 35
        }
      ],
      "source": [
        "# dengan 1 kolom sebagai grouping\n",
        "df_clean.loc[df_clean['product_name'].str.contains('tea')].groupby('product_name')['quantity'].sum().sort_values(ascending=False)"
      ]
    },
    {
      "cell_type": "code",
      "execution_count": 36,
      "id": "d9229672-7cd3-4f56-80d3-ef8ef2f2a82c",
      "metadata": {
        "execution": {
          "iopub.execute_input": "2022-10-26T15:52:02.406863Z",
          "iopub.status.busy": "2022-10-26T15:52:02.406447Z",
          "iopub.status.idle": "2022-10-26T15:52:02.619366Z",
          "shell.execute_reply": "2022-10-26T15:52:02.616422Z",
          "shell.execute_reply.started": "2022-10-26T15:52:02.406835Z"
        },
        "tags": [],
        "id": "d9229672-7cd3-4f56-80d3-ef8ef2f2a82c",
        "outputId": "fe259c1e-722b-47d6-e3f7-b918694ed0aa",
        "colab": {
          "base_uri": "https://localhost:8080/",
          "height": 424
        }
      },
      "outputs": [
        {
          "output_type": "execute_result",
          "data": {
            "text/plain": [
              "                          product_name  quantity\n",
              "0          60 teatime fairy cake cases     27584\n",
              "2      antique silver tea glass etched     17190\n",
              "30                  moroccan tea glass      7218\n",
              "1    antique silver tea glass engraved      6941\n",
              "35                potting shed tea mug      6222\n",
              "..                                 ...       ...\n",
              "17    english rose tea set in gift box         5\n",
              "27  light topaz teal/aqua col necklace         4\n",
              "10     ceramic cake teapot with cherry         3\n",
              "13            dotcomgiftshop tea towel         2\n",
              "81             teatime round cake tins         1\n",
              "\n",
              "[87 rows x 2 columns]"
            ],
            "text/html": [
              "\n",
              "  <div id=\"df-6b76b833-dd4b-4f76-a578-b87b8f3c7ac0\" class=\"colab-df-container\">\n",
              "    <div>\n",
              "<style scoped>\n",
              "    .dataframe tbody tr th:only-of-type {\n",
              "        vertical-align: middle;\n",
              "    }\n",
              "\n",
              "    .dataframe tbody tr th {\n",
              "        vertical-align: top;\n",
              "    }\n",
              "\n",
              "    .dataframe thead th {\n",
              "        text-align: right;\n",
              "    }\n",
              "</style>\n",
              "<table border=\"1\" class=\"dataframe\">\n",
              "  <thead>\n",
              "    <tr style=\"text-align: right;\">\n",
              "      <th></th>\n",
              "      <th>product_name</th>\n",
              "      <th>quantity</th>\n",
              "    </tr>\n",
              "  </thead>\n",
              "  <tbody>\n",
              "    <tr>\n",
              "      <th>0</th>\n",
              "      <td>60 teatime fairy cake cases</td>\n",
              "      <td>27584</td>\n",
              "    </tr>\n",
              "    <tr>\n",
              "      <th>2</th>\n",
              "      <td>antique silver tea glass etched</td>\n",
              "      <td>17190</td>\n",
              "    </tr>\n",
              "    <tr>\n",
              "      <th>30</th>\n",
              "      <td>moroccan tea glass</td>\n",
              "      <td>7218</td>\n",
              "    </tr>\n",
              "    <tr>\n",
              "      <th>1</th>\n",
              "      <td>antique silver tea glass engraved</td>\n",
              "      <td>6941</td>\n",
              "    </tr>\n",
              "    <tr>\n",
              "      <th>35</th>\n",
              "      <td>potting shed tea mug</td>\n",
              "      <td>6222</td>\n",
              "    </tr>\n",
              "    <tr>\n",
              "      <th>...</th>\n",
              "      <td>...</td>\n",
              "      <td>...</td>\n",
              "    </tr>\n",
              "    <tr>\n",
              "      <th>17</th>\n",
              "      <td>english rose tea set in gift box</td>\n",
              "      <td>5</td>\n",
              "    </tr>\n",
              "    <tr>\n",
              "      <th>27</th>\n",
              "      <td>light topaz teal/aqua col necklace</td>\n",
              "      <td>4</td>\n",
              "    </tr>\n",
              "    <tr>\n",
              "      <th>10</th>\n",
              "      <td>ceramic cake teapot with cherry</td>\n",
              "      <td>3</td>\n",
              "    </tr>\n",
              "    <tr>\n",
              "      <th>13</th>\n",
              "      <td>dotcomgiftshop tea towel</td>\n",
              "      <td>2</td>\n",
              "    </tr>\n",
              "    <tr>\n",
              "      <th>81</th>\n",
              "      <td>teatime round cake tins</td>\n",
              "      <td>1</td>\n",
              "    </tr>\n",
              "  </tbody>\n",
              "</table>\n",
              "<p>87 rows × 2 columns</p>\n",
              "</div>\n",
              "    <div class=\"colab-df-buttons\">\n",
              "\n",
              "  <div class=\"colab-df-container\">\n",
              "    <button class=\"colab-df-convert\" onclick=\"convertToInteractive('df-6b76b833-dd4b-4f76-a578-b87b8f3c7ac0')\"\n",
              "            title=\"Convert this dataframe to an interactive table.\"\n",
              "            style=\"display:none;\">\n",
              "\n",
              "  <svg xmlns=\"http://www.w3.org/2000/svg\" height=\"24px\" viewBox=\"0 -960 960 960\">\n",
              "    <path d=\"M120-120v-720h720v720H120Zm60-500h600v-160H180v160Zm220 220h160v-160H400v160Zm0 220h160v-160H400v160ZM180-400h160v-160H180v160Zm440 0h160v-160H620v160ZM180-180h160v-160H180v160Zm440 0h160v-160H620v160Z\"/>\n",
              "  </svg>\n",
              "    </button>\n",
              "\n",
              "  <style>\n",
              "    .colab-df-container {\n",
              "      display:flex;\n",
              "      gap: 12px;\n",
              "    }\n",
              "\n",
              "    .colab-df-convert {\n",
              "      background-color: #E8F0FE;\n",
              "      border: none;\n",
              "      border-radius: 50%;\n",
              "      cursor: pointer;\n",
              "      display: none;\n",
              "      fill: #1967D2;\n",
              "      height: 32px;\n",
              "      padding: 0 0 0 0;\n",
              "      width: 32px;\n",
              "    }\n",
              "\n",
              "    .colab-df-convert:hover {\n",
              "      background-color: #E2EBFA;\n",
              "      box-shadow: 0px 1px 2px rgba(60, 64, 67, 0.3), 0px 1px 3px 1px rgba(60, 64, 67, 0.15);\n",
              "      fill: #174EA6;\n",
              "    }\n",
              "\n",
              "    .colab-df-buttons div {\n",
              "      margin-bottom: 4px;\n",
              "    }\n",
              "\n",
              "    [theme=dark] .colab-df-convert {\n",
              "      background-color: #3B4455;\n",
              "      fill: #D2E3FC;\n",
              "    }\n",
              "\n",
              "    [theme=dark] .colab-df-convert:hover {\n",
              "      background-color: #434B5C;\n",
              "      box-shadow: 0px 1px 3px 1px rgba(0, 0, 0, 0.15);\n",
              "      filter: drop-shadow(0px 1px 2px rgba(0, 0, 0, 0.3));\n",
              "      fill: #FFFFFF;\n",
              "    }\n",
              "  </style>\n",
              "\n",
              "    <script>\n",
              "      const buttonEl =\n",
              "        document.querySelector('#df-6b76b833-dd4b-4f76-a578-b87b8f3c7ac0 button.colab-df-convert');\n",
              "      buttonEl.style.display =\n",
              "        google.colab.kernel.accessAllowed ? 'block' : 'none';\n",
              "\n",
              "      async function convertToInteractive(key) {\n",
              "        const element = document.querySelector('#df-6b76b833-dd4b-4f76-a578-b87b8f3c7ac0');\n",
              "        const dataTable =\n",
              "          await google.colab.kernel.invokeFunction('convertToInteractive',\n",
              "                                                    [key], {});\n",
              "        if (!dataTable) return;\n",
              "\n",
              "        const docLinkHtml = 'Like what you see? Visit the ' +\n",
              "          '<a target=\"_blank\" href=https://colab.research.google.com/notebooks/data_table.ipynb>data table notebook</a>'\n",
              "          + ' to learn more about interactive tables.';\n",
              "        element.innerHTML = '';\n",
              "        dataTable['output_type'] = 'display_data';\n",
              "        await google.colab.output.renderOutput(dataTable, element);\n",
              "        const docLink = document.createElement('div');\n",
              "        docLink.innerHTML = docLinkHtml;\n",
              "        element.appendChild(docLink);\n",
              "      }\n",
              "    </script>\n",
              "  </div>\n",
              "\n",
              "\n",
              "    <div id=\"df-5f9abd16-b6c8-4d8d-9347-489441aa4208\">\n",
              "      <button class=\"colab-df-quickchart\" onclick=\"quickchart('df-5f9abd16-b6c8-4d8d-9347-489441aa4208')\"\n",
              "                title=\"Suggest charts\"\n",
              "                style=\"display:none;\">\n",
              "\n",
              "<svg xmlns=\"http://www.w3.org/2000/svg\" height=\"24px\"viewBox=\"0 0 24 24\"\n",
              "     width=\"24px\">\n",
              "    <g>\n",
              "        <path d=\"M19 3H5c-1.1 0-2 .9-2 2v14c0 1.1.9 2 2 2h14c1.1 0 2-.9 2-2V5c0-1.1-.9-2-2-2zM9 17H7v-7h2v7zm4 0h-2V7h2v10zm4 0h-2v-4h2v4z\"/>\n",
              "    </g>\n",
              "</svg>\n",
              "      </button>\n",
              "\n",
              "<style>\n",
              "  .colab-df-quickchart {\n",
              "      --bg-color: #E8F0FE;\n",
              "      --fill-color: #1967D2;\n",
              "      --hover-bg-color: #E2EBFA;\n",
              "      --hover-fill-color: #174EA6;\n",
              "      --disabled-fill-color: #AAA;\n",
              "      --disabled-bg-color: #DDD;\n",
              "  }\n",
              "\n",
              "  [theme=dark] .colab-df-quickchart {\n",
              "      --bg-color: #3B4455;\n",
              "      --fill-color: #D2E3FC;\n",
              "      --hover-bg-color: #434B5C;\n",
              "      --hover-fill-color: #FFFFFF;\n",
              "      --disabled-bg-color: #3B4455;\n",
              "      --disabled-fill-color: #666;\n",
              "  }\n",
              "\n",
              "  .colab-df-quickchart {\n",
              "    background-color: var(--bg-color);\n",
              "    border: none;\n",
              "    border-radius: 50%;\n",
              "    cursor: pointer;\n",
              "    display: none;\n",
              "    fill: var(--fill-color);\n",
              "    height: 32px;\n",
              "    padding: 0;\n",
              "    width: 32px;\n",
              "  }\n",
              "\n",
              "  .colab-df-quickchart:hover {\n",
              "    background-color: var(--hover-bg-color);\n",
              "    box-shadow: 0 1px 2px rgba(60, 64, 67, 0.3), 0 1px 3px 1px rgba(60, 64, 67, 0.15);\n",
              "    fill: var(--button-hover-fill-color);\n",
              "  }\n",
              "\n",
              "  .colab-df-quickchart-complete:disabled,\n",
              "  .colab-df-quickchart-complete:disabled:hover {\n",
              "    background-color: var(--disabled-bg-color);\n",
              "    fill: var(--disabled-fill-color);\n",
              "    box-shadow: none;\n",
              "  }\n",
              "\n",
              "  .colab-df-spinner {\n",
              "    border: 2px solid var(--fill-color);\n",
              "    border-color: transparent;\n",
              "    border-bottom-color: var(--fill-color);\n",
              "    animation:\n",
              "      spin 1s steps(1) infinite;\n",
              "  }\n",
              "\n",
              "  @keyframes spin {\n",
              "    0% {\n",
              "      border-color: transparent;\n",
              "      border-bottom-color: var(--fill-color);\n",
              "      border-left-color: var(--fill-color);\n",
              "    }\n",
              "    20% {\n",
              "      border-color: transparent;\n",
              "      border-left-color: var(--fill-color);\n",
              "      border-top-color: var(--fill-color);\n",
              "    }\n",
              "    30% {\n",
              "      border-color: transparent;\n",
              "      border-left-color: var(--fill-color);\n",
              "      border-top-color: var(--fill-color);\n",
              "      border-right-color: var(--fill-color);\n",
              "    }\n",
              "    40% {\n",
              "      border-color: transparent;\n",
              "      border-right-color: var(--fill-color);\n",
              "      border-top-color: var(--fill-color);\n",
              "    }\n",
              "    60% {\n",
              "      border-color: transparent;\n",
              "      border-right-color: var(--fill-color);\n",
              "    }\n",
              "    80% {\n",
              "      border-color: transparent;\n",
              "      border-right-color: var(--fill-color);\n",
              "      border-bottom-color: var(--fill-color);\n",
              "    }\n",
              "    90% {\n",
              "      border-color: transparent;\n",
              "      border-bottom-color: var(--fill-color);\n",
              "    }\n",
              "  }\n",
              "</style>\n",
              "\n",
              "      <script>\n",
              "        async function quickchart(key) {\n",
              "          const quickchartButtonEl =\n",
              "            document.querySelector('#' + key + ' button');\n",
              "          quickchartButtonEl.disabled = true;  // To prevent multiple clicks.\n",
              "          quickchartButtonEl.classList.add('colab-df-spinner');\n",
              "          try {\n",
              "            const charts = await google.colab.kernel.invokeFunction(\n",
              "                'suggestCharts', [key], {});\n",
              "          } catch (error) {\n",
              "            console.error('Error during call to suggestCharts:', error);\n",
              "          }\n",
              "          quickchartButtonEl.classList.remove('colab-df-spinner');\n",
              "          quickchartButtonEl.classList.add('colab-df-quickchart-complete');\n",
              "        }\n",
              "        (() => {\n",
              "          let quickchartButtonEl =\n",
              "            document.querySelector('#df-5f9abd16-b6c8-4d8d-9347-489441aa4208 button');\n",
              "          quickchartButtonEl.style.display =\n",
              "            google.colab.kernel.accessAllowed ? 'block' : 'none';\n",
              "        })();\n",
              "      </script>\n",
              "    </div>\n",
              "\n",
              "    </div>\n",
              "  </div>\n"
            ],
            "application/vnd.google.colaboratory.intrinsic+json": {
              "type": "dataframe",
              "summary": "{\n  \"name\": \"df_clean\",\n  \"rows\": 87,\n  \"fields\": [\n    {\n      \"column\": \"product_name\",\n      \"properties\": {\n        \"dtype\": \"string\",\n        \"num_unique_values\": 87,\n        \"samples\": [\n          \"teatime pencil w stamp asst\",\n          \"60 teatime fairy cake cases\",\n          \"kings choice tea caddy\"\n        ],\n        \"semantic_type\": \"\",\n        \"description\": \"\"\n      }\n    },\n    {\n      \"column\": \"quantity\",\n      \"properties\": {\n        \"dtype\": \"number\",\n        \"std\": 3714,\n        \"min\": 1,\n        \"max\": 27584,\n        \"num_unique_values\": 84,\n        \"samples\": [\n          36,\n          27584,\n          222\n        ],\n        \"semantic_type\": \"\",\n        \"description\": \"\"\n      }\n    }\n  ]\n}"
            }
          },
          "metadata": {},
          "execution_count": 36
        }
      ],
      "source": [
        "df_clean.loc[df_clean['product_name'].str.contains('tea')].groupby('product_name', as_index=False)['quantity'].sum().sort_values('quantity', ascending=False)"
      ]
    },
    {
      "cell_type": "code",
      "execution_count": 37,
      "id": "086ce625-7041-46bb-93a2-a864e73e765c",
      "metadata": {
        "execution": {
          "iopub.execute_input": "2022-10-27T09:39:10.855544Z",
          "iopub.status.busy": "2022-10-27T09:39:10.855275Z",
          "iopub.status.idle": "2022-10-27T09:39:11.261823Z",
          "shell.execute_reply": "2022-10-27T09:39:11.260643Z",
          "shell.execute_reply.started": "2022-10-27T09:39:10.855520Z"
        },
        "tags": [],
        "id": "086ce625-7041-46bb-93a2-a864e73e765c",
        "outputId": "30920b37-a505-48bd-de24-d2c540dfdcb5",
        "colab": {
          "base_uri": "https://localhost:8080/",
          "height": 490
        }
      },
      "outputs": [
        {
          "output_type": "execute_result",
          "data": {
            "text/plain": [
              "product_name                       order_status\n",
              "60 teatime fairy cake cases        delivered       27432\n",
              "antique silver tea glass etched    delivered       17083\n",
              "moroccan tea glass                 delivered        7129\n",
              "antique silver tea glass engraved  delivered        6935\n",
              "potting shed tea mug               delivered        6113\n",
              "                                                   ...  \n",
              "french chateau oval platter        cancelled           1\n",
              "tea time mug in gift box           cancelled           1\n",
              "tea time breakfast basket          cancelled           1\n",
              "teatime round cake tins            cancelled           1\n",
              "white tea,coffee,sugar jars        cancelled           1\n",
              "Name: quantity, Length: 139, dtype: int64"
            ],
            "text/html": [
              "<div>\n",
              "<style scoped>\n",
              "    .dataframe tbody tr th:only-of-type {\n",
              "        vertical-align: middle;\n",
              "    }\n",
              "\n",
              "    .dataframe tbody tr th {\n",
              "        vertical-align: top;\n",
              "    }\n",
              "\n",
              "    .dataframe thead th {\n",
              "        text-align: right;\n",
              "    }\n",
              "</style>\n",
              "<table border=\"1\" class=\"dataframe\">\n",
              "  <thead>\n",
              "    <tr style=\"text-align: right;\">\n",
              "      <th></th>\n",
              "      <th></th>\n",
              "      <th>quantity</th>\n",
              "    </tr>\n",
              "    <tr>\n",
              "      <th>product_name</th>\n",
              "      <th>order_status</th>\n",
              "      <th></th>\n",
              "    </tr>\n",
              "  </thead>\n",
              "  <tbody>\n",
              "    <tr>\n",
              "      <th>60 teatime fairy cake cases</th>\n",
              "      <th>delivered</th>\n",
              "      <td>27432</td>\n",
              "    </tr>\n",
              "    <tr>\n",
              "      <th>antique silver tea glass etched</th>\n",
              "      <th>delivered</th>\n",
              "      <td>17083</td>\n",
              "    </tr>\n",
              "    <tr>\n",
              "      <th>moroccan tea glass</th>\n",
              "      <th>delivered</th>\n",
              "      <td>7129</td>\n",
              "    </tr>\n",
              "    <tr>\n",
              "      <th>antique silver tea glass engraved</th>\n",
              "      <th>delivered</th>\n",
              "      <td>6935</td>\n",
              "    </tr>\n",
              "    <tr>\n",
              "      <th>potting shed tea mug</th>\n",
              "      <th>delivered</th>\n",
              "      <td>6113</td>\n",
              "    </tr>\n",
              "    <tr>\n",
              "      <th>...</th>\n",
              "      <th>...</th>\n",
              "      <td>...</td>\n",
              "    </tr>\n",
              "    <tr>\n",
              "      <th>french chateau oval platter</th>\n",
              "      <th>cancelled</th>\n",
              "      <td>1</td>\n",
              "    </tr>\n",
              "    <tr>\n",
              "      <th>tea time mug in gift box</th>\n",
              "      <th>cancelled</th>\n",
              "      <td>1</td>\n",
              "    </tr>\n",
              "    <tr>\n",
              "      <th>tea time breakfast basket</th>\n",
              "      <th>cancelled</th>\n",
              "      <td>1</td>\n",
              "    </tr>\n",
              "    <tr>\n",
              "      <th>teatime round cake tins</th>\n",
              "      <th>cancelled</th>\n",
              "      <td>1</td>\n",
              "    </tr>\n",
              "    <tr>\n",
              "      <th>white tea,coffee,sugar jars</th>\n",
              "      <th>cancelled</th>\n",
              "      <td>1</td>\n",
              "    </tr>\n",
              "  </tbody>\n",
              "</table>\n",
              "<p>139 rows × 1 columns</p>\n",
              "</div><br><label><b>dtype:</b> int64</label>"
            ]
          },
          "metadata": {},
          "execution_count": 37
        }
      ],
      "source": [
        "# agregat dengan lebih dari 1 kolom sebagai grouping\n",
        "df_clean.loc[df_clean['product_name'].str.contains('tea')].groupby(['product_name','order_status'])['quantity'].sum().sort_values(ascending=False)"
      ]
    },
    {
      "cell_type": "markdown",
      "id": "06e60fea-151f-49f4-bc49-4029bca4b5dc",
      "metadata": {
        "id": "06e60fea-151f-49f4-bc49-4029bca4b5dc"
      },
      "source": [
        "## Agregat dari beberapa kolom"
      ]
    },
    {
      "cell_type": "code",
      "execution_count": 38,
      "id": "509dcafb-c137-4d49-a804-da78e29f78dc",
      "metadata": {
        "execution": {
          "iopub.execute_input": "2022-10-27T09:37:33.415024Z",
          "iopub.status.busy": "2022-10-27T09:37:33.414674Z",
          "iopub.status.idle": "2022-10-27T09:37:33.821003Z",
          "shell.execute_reply": "2022-10-27T09:37:33.806336Z",
          "shell.execute_reply.started": "2022-10-27T09:37:33.414989Z"
        },
        "tags": [],
        "id": "509dcafb-c137-4d49-a804-da78e29f78dc",
        "outputId": "44ef4ccb-e37e-4941-cfa5-4932446802a0",
        "colab": {
          "base_uri": "https://localhost:8080/",
          "height": 424
        }
      },
      "outputs": [
        {
          "output_type": "execute_result",
          "data": {
            "text/plain": [
              "                          product_name  total_quantity  total_amount\n",
              "0          60 teatime fairy cake cases           27584      13885.20\n",
              "2      antique silver tea glass etched           17190      23522.85\n",
              "30                  moroccan tea glass            7218       5744.56\n",
              "1    antique silver tea glass engraved            6941       8272.97\n",
              "35                potting shed tea mug            6222       7456.26\n",
              "..                                 ...             ...           ...\n",
              "17    english rose tea set in gift box               5         23.25\n",
              "27  light topaz teal/aqua col necklace               4         20.36\n",
              "10     ceramic cake teapot with cherry               3         13.45\n",
              "13            dotcomgiftshop tea towel               2          6.72\n",
              "81             teatime round cake tins               1          9.95\n",
              "\n",
              "[87 rows x 3 columns]"
            ],
            "text/html": [
              "\n",
              "  <div id=\"df-cd646844-9f25-4738-9003-94029ca6e287\" class=\"colab-df-container\">\n",
              "    <div>\n",
              "<style scoped>\n",
              "    .dataframe tbody tr th:only-of-type {\n",
              "        vertical-align: middle;\n",
              "    }\n",
              "\n",
              "    .dataframe tbody tr th {\n",
              "        vertical-align: top;\n",
              "    }\n",
              "\n",
              "    .dataframe thead th {\n",
              "        text-align: right;\n",
              "    }\n",
              "</style>\n",
              "<table border=\"1\" class=\"dataframe\">\n",
              "  <thead>\n",
              "    <tr style=\"text-align: right;\">\n",
              "      <th></th>\n",
              "      <th>product_name</th>\n",
              "      <th>total_quantity</th>\n",
              "      <th>total_amount</th>\n",
              "    </tr>\n",
              "  </thead>\n",
              "  <tbody>\n",
              "    <tr>\n",
              "      <th>0</th>\n",
              "      <td>60 teatime fairy cake cases</td>\n",
              "      <td>27584</td>\n",
              "      <td>13885.20</td>\n",
              "    </tr>\n",
              "    <tr>\n",
              "      <th>2</th>\n",
              "      <td>antique silver tea glass etched</td>\n",
              "      <td>17190</td>\n",
              "      <td>23522.85</td>\n",
              "    </tr>\n",
              "    <tr>\n",
              "      <th>30</th>\n",
              "      <td>moroccan tea glass</td>\n",
              "      <td>7218</td>\n",
              "      <td>5744.56</td>\n",
              "    </tr>\n",
              "    <tr>\n",
              "      <th>1</th>\n",
              "      <td>antique silver tea glass engraved</td>\n",
              "      <td>6941</td>\n",
              "      <td>8272.97</td>\n",
              "    </tr>\n",
              "    <tr>\n",
              "      <th>35</th>\n",
              "      <td>potting shed tea mug</td>\n",
              "      <td>6222</td>\n",
              "      <td>7456.26</td>\n",
              "    </tr>\n",
              "    <tr>\n",
              "      <th>...</th>\n",
              "      <td>...</td>\n",
              "      <td>...</td>\n",
              "      <td>...</td>\n",
              "    </tr>\n",
              "    <tr>\n",
              "      <th>17</th>\n",
              "      <td>english rose tea set in gift box</td>\n",
              "      <td>5</td>\n",
              "      <td>23.25</td>\n",
              "    </tr>\n",
              "    <tr>\n",
              "      <th>27</th>\n",
              "      <td>light topaz teal/aqua col necklace</td>\n",
              "      <td>4</td>\n",
              "      <td>20.36</td>\n",
              "    </tr>\n",
              "    <tr>\n",
              "      <th>10</th>\n",
              "      <td>ceramic cake teapot with cherry</td>\n",
              "      <td>3</td>\n",
              "      <td>13.45</td>\n",
              "    </tr>\n",
              "    <tr>\n",
              "      <th>13</th>\n",
              "      <td>dotcomgiftshop tea towel</td>\n",
              "      <td>2</td>\n",
              "      <td>6.72</td>\n",
              "    </tr>\n",
              "    <tr>\n",
              "      <th>81</th>\n",
              "      <td>teatime round cake tins</td>\n",
              "      <td>1</td>\n",
              "      <td>9.95</td>\n",
              "    </tr>\n",
              "  </tbody>\n",
              "</table>\n",
              "<p>87 rows × 3 columns</p>\n",
              "</div>\n",
              "    <div class=\"colab-df-buttons\">\n",
              "\n",
              "  <div class=\"colab-df-container\">\n",
              "    <button class=\"colab-df-convert\" onclick=\"convertToInteractive('df-cd646844-9f25-4738-9003-94029ca6e287')\"\n",
              "            title=\"Convert this dataframe to an interactive table.\"\n",
              "            style=\"display:none;\">\n",
              "\n",
              "  <svg xmlns=\"http://www.w3.org/2000/svg\" height=\"24px\" viewBox=\"0 -960 960 960\">\n",
              "    <path d=\"M120-120v-720h720v720H120Zm60-500h600v-160H180v160Zm220 220h160v-160H400v160Zm0 220h160v-160H400v160ZM180-400h160v-160H180v160Zm440 0h160v-160H620v160ZM180-180h160v-160H180v160Zm440 0h160v-160H620v160Z\"/>\n",
              "  </svg>\n",
              "    </button>\n",
              "\n",
              "  <style>\n",
              "    .colab-df-container {\n",
              "      display:flex;\n",
              "      gap: 12px;\n",
              "    }\n",
              "\n",
              "    .colab-df-convert {\n",
              "      background-color: #E8F0FE;\n",
              "      border: none;\n",
              "      border-radius: 50%;\n",
              "      cursor: pointer;\n",
              "      display: none;\n",
              "      fill: #1967D2;\n",
              "      height: 32px;\n",
              "      padding: 0 0 0 0;\n",
              "      width: 32px;\n",
              "    }\n",
              "\n",
              "    .colab-df-convert:hover {\n",
              "      background-color: #E2EBFA;\n",
              "      box-shadow: 0px 1px 2px rgba(60, 64, 67, 0.3), 0px 1px 3px 1px rgba(60, 64, 67, 0.15);\n",
              "      fill: #174EA6;\n",
              "    }\n",
              "\n",
              "    .colab-df-buttons div {\n",
              "      margin-bottom: 4px;\n",
              "    }\n",
              "\n",
              "    [theme=dark] .colab-df-convert {\n",
              "      background-color: #3B4455;\n",
              "      fill: #D2E3FC;\n",
              "    }\n",
              "\n",
              "    [theme=dark] .colab-df-convert:hover {\n",
              "      background-color: #434B5C;\n",
              "      box-shadow: 0px 1px 3px 1px rgba(0, 0, 0, 0.15);\n",
              "      filter: drop-shadow(0px 1px 2px rgba(0, 0, 0, 0.3));\n",
              "      fill: #FFFFFF;\n",
              "    }\n",
              "  </style>\n",
              "\n",
              "    <script>\n",
              "      const buttonEl =\n",
              "        document.querySelector('#df-cd646844-9f25-4738-9003-94029ca6e287 button.colab-df-convert');\n",
              "      buttonEl.style.display =\n",
              "        google.colab.kernel.accessAllowed ? 'block' : 'none';\n",
              "\n",
              "      async function convertToInteractive(key) {\n",
              "        const element = document.querySelector('#df-cd646844-9f25-4738-9003-94029ca6e287');\n",
              "        const dataTable =\n",
              "          await google.colab.kernel.invokeFunction('convertToInteractive',\n",
              "                                                    [key], {});\n",
              "        if (!dataTable) return;\n",
              "\n",
              "        const docLinkHtml = 'Like what you see? Visit the ' +\n",
              "          '<a target=\"_blank\" href=https://colab.research.google.com/notebooks/data_table.ipynb>data table notebook</a>'\n",
              "          + ' to learn more about interactive tables.';\n",
              "        element.innerHTML = '';\n",
              "        dataTable['output_type'] = 'display_data';\n",
              "        await google.colab.output.renderOutput(dataTable, element);\n",
              "        const docLink = document.createElement('div');\n",
              "        docLink.innerHTML = docLinkHtml;\n",
              "        element.appendChild(docLink);\n",
              "      }\n",
              "    </script>\n",
              "  </div>\n",
              "\n",
              "\n",
              "    <div id=\"df-382e330e-a9f4-4a8d-bdae-b663c4d91e7c\">\n",
              "      <button class=\"colab-df-quickchart\" onclick=\"quickchart('df-382e330e-a9f4-4a8d-bdae-b663c4d91e7c')\"\n",
              "                title=\"Suggest charts\"\n",
              "                style=\"display:none;\">\n",
              "\n",
              "<svg xmlns=\"http://www.w3.org/2000/svg\" height=\"24px\"viewBox=\"0 0 24 24\"\n",
              "     width=\"24px\">\n",
              "    <g>\n",
              "        <path d=\"M19 3H5c-1.1 0-2 .9-2 2v14c0 1.1.9 2 2 2h14c1.1 0 2-.9 2-2V5c0-1.1-.9-2-2-2zM9 17H7v-7h2v7zm4 0h-2V7h2v10zm4 0h-2v-4h2v4z\"/>\n",
              "    </g>\n",
              "</svg>\n",
              "      </button>\n",
              "\n",
              "<style>\n",
              "  .colab-df-quickchart {\n",
              "      --bg-color: #E8F0FE;\n",
              "      --fill-color: #1967D2;\n",
              "      --hover-bg-color: #E2EBFA;\n",
              "      --hover-fill-color: #174EA6;\n",
              "      --disabled-fill-color: #AAA;\n",
              "      --disabled-bg-color: #DDD;\n",
              "  }\n",
              "\n",
              "  [theme=dark] .colab-df-quickchart {\n",
              "      --bg-color: #3B4455;\n",
              "      --fill-color: #D2E3FC;\n",
              "      --hover-bg-color: #434B5C;\n",
              "      --hover-fill-color: #FFFFFF;\n",
              "      --disabled-bg-color: #3B4455;\n",
              "      --disabled-fill-color: #666;\n",
              "  }\n",
              "\n",
              "  .colab-df-quickchart {\n",
              "    background-color: var(--bg-color);\n",
              "    border: none;\n",
              "    border-radius: 50%;\n",
              "    cursor: pointer;\n",
              "    display: none;\n",
              "    fill: var(--fill-color);\n",
              "    height: 32px;\n",
              "    padding: 0;\n",
              "    width: 32px;\n",
              "  }\n",
              "\n",
              "  .colab-df-quickchart:hover {\n",
              "    background-color: var(--hover-bg-color);\n",
              "    box-shadow: 0 1px 2px rgba(60, 64, 67, 0.3), 0 1px 3px 1px rgba(60, 64, 67, 0.15);\n",
              "    fill: var(--button-hover-fill-color);\n",
              "  }\n",
              "\n",
              "  .colab-df-quickchart-complete:disabled,\n",
              "  .colab-df-quickchart-complete:disabled:hover {\n",
              "    background-color: var(--disabled-bg-color);\n",
              "    fill: var(--disabled-fill-color);\n",
              "    box-shadow: none;\n",
              "  }\n",
              "\n",
              "  .colab-df-spinner {\n",
              "    border: 2px solid var(--fill-color);\n",
              "    border-color: transparent;\n",
              "    border-bottom-color: var(--fill-color);\n",
              "    animation:\n",
              "      spin 1s steps(1) infinite;\n",
              "  }\n",
              "\n",
              "  @keyframes spin {\n",
              "    0% {\n",
              "      border-color: transparent;\n",
              "      border-bottom-color: var(--fill-color);\n",
              "      border-left-color: var(--fill-color);\n",
              "    }\n",
              "    20% {\n",
              "      border-color: transparent;\n",
              "      border-left-color: var(--fill-color);\n",
              "      border-top-color: var(--fill-color);\n",
              "    }\n",
              "    30% {\n",
              "      border-color: transparent;\n",
              "      border-left-color: var(--fill-color);\n",
              "      border-top-color: var(--fill-color);\n",
              "      border-right-color: var(--fill-color);\n",
              "    }\n",
              "    40% {\n",
              "      border-color: transparent;\n",
              "      border-right-color: var(--fill-color);\n",
              "      border-top-color: var(--fill-color);\n",
              "    }\n",
              "    60% {\n",
              "      border-color: transparent;\n",
              "      border-right-color: var(--fill-color);\n",
              "    }\n",
              "    80% {\n",
              "      border-color: transparent;\n",
              "      border-right-color: var(--fill-color);\n",
              "      border-bottom-color: var(--fill-color);\n",
              "    }\n",
              "    90% {\n",
              "      border-color: transparent;\n",
              "      border-bottom-color: var(--fill-color);\n",
              "    }\n",
              "  }\n",
              "</style>\n",
              "\n",
              "      <script>\n",
              "        async function quickchart(key) {\n",
              "          const quickchartButtonEl =\n",
              "            document.querySelector('#' + key + ' button');\n",
              "          quickchartButtonEl.disabled = true;  // To prevent multiple clicks.\n",
              "          quickchartButtonEl.classList.add('colab-df-spinner');\n",
              "          try {\n",
              "            const charts = await google.colab.kernel.invokeFunction(\n",
              "                'suggestCharts', [key], {});\n",
              "          } catch (error) {\n",
              "            console.error('Error during call to suggestCharts:', error);\n",
              "          }\n",
              "          quickchartButtonEl.classList.remove('colab-df-spinner');\n",
              "          quickchartButtonEl.classList.add('colab-df-quickchart-complete');\n",
              "        }\n",
              "        (() => {\n",
              "          let quickchartButtonEl =\n",
              "            document.querySelector('#df-382e330e-a9f4-4a8d-bdae-b663c4d91e7c button');\n",
              "          quickchartButtonEl.style.display =\n",
              "            google.colab.kernel.accessAllowed ? 'block' : 'none';\n",
              "        })();\n",
              "      </script>\n",
              "    </div>\n",
              "\n",
              "    </div>\n",
              "  </div>\n"
            ],
            "application/vnd.google.colaboratory.intrinsic+json": {
              "type": "dataframe",
              "summary": "{\n  \"name\": \"df_clean\",\n  \"rows\": 87,\n  \"fields\": [\n    {\n      \"column\": \"product_name\",\n      \"properties\": {\n        \"dtype\": \"string\",\n        \"num_unique_values\": 87,\n        \"samples\": [\n          \"teatime pencil w stamp asst\",\n          \"60 teatime fairy cake cases\",\n          \"kings choice tea caddy\"\n        ],\n        \"semantic_type\": \"\",\n        \"description\": \"\"\n      }\n    },\n    {\n      \"column\": \"total_quantity\",\n      \"properties\": {\n        \"dtype\": \"number\",\n        \"std\": 3714,\n        \"min\": 1,\n        \"max\": 27584,\n        \"num_unique_values\": 84,\n        \"samples\": [\n          36,\n          27584,\n          222\n        ],\n        \"semantic_type\": \"\",\n        \"description\": \"\"\n      }\n    },\n    {\n      \"column\": \"total_amount\",\n      \"properties\": {\n        \"dtype\": \"number\",\n        \"std\": 5729.5401922474675,\n        \"min\": 6.72,\n        \"max\": 27391.460000000003,\n        \"num_unique_values\": 87,\n        \"samples\": [\n          15.12,\n          13885.2,\n          5681.88\n        ],\n        \"semantic_type\": \"\",\n        \"description\": \"\"\n      }\n    }\n  ]\n}"
            }
          },
          "metadata": {},
          "execution_count": 38
        }
      ],
      "source": [
        "# dengan 1 kolom sebagai grouping\n",
        "df_clean.loc[df_clean['product_name'].str.contains('tea')].groupby('product_name', as_index=False).agg(total_quantity=('quantity','sum'),total_amount=('amount','sum')).sort_values('total_quantity', ascending=False)"
      ]
    },
    {
      "cell_type": "code",
      "execution_count": 39,
      "id": "85fd2cbe-e64c-4647-b213-5c07827bb27b",
      "metadata": {
        "execution": {
          "iopub.execute_input": "2022-10-27T09:39:34.373628Z",
          "iopub.status.busy": "2022-10-27T09:39:34.369746Z",
          "iopub.status.idle": "2022-10-27T09:39:34.771916Z",
          "shell.execute_reply": "2022-10-27T09:39:34.770407Z",
          "shell.execute_reply.started": "2022-10-27T09:39:34.373581Z"
        },
        "tags": [],
        "id": "85fd2cbe-e64c-4647-b213-5c07827bb27b",
        "outputId": "76e137c3-b086-4fc7-e18a-dad357016a17",
        "colab": {
          "base_uri": "https://localhost:8080/",
          "height": 424
        }
      },
      "outputs": [
        {
          "output_type": "execute_result",
          "data": {
            "text/plain": [
              "                          product_name order_status  total_quantity  \\\n",
              "1          60 teatime fairy cake cases    delivered           27432   \n",
              "5      antique silver tea glass etched    delivered           17083   \n",
              "47                  moroccan tea glass    delivered            7129   \n",
              "3    antique silver tea glass engraved    delivered            6935   \n",
              "55                potting shed tea mug    delivered            6113   \n",
              "..                                 ...          ...             ...   \n",
              "30         french chateau oval platter    cancelled               1   \n",
              "105           tea time mug in gift box    cancelled               1   \n",
              "97           tea time breakfast basket    cancelled               1   \n",
              "129            teatime round cake tins    cancelled               1   \n",
              "137        white tea,coffee,sugar jars    cancelled               1   \n",
              "\n",
              "     total_amount  \n",
              "1        13806.15  \n",
              "5        23402.78  \n",
              "47        5669.51  \n",
              "3         8265.47  \n",
              "55        7321.53  \n",
              "..            ...  \n",
              "30           7.95  \n",
              "105          2.95  \n",
              "97           2.10  \n",
              "129          9.95  \n",
              "137          6.35  \n",
              "\n",
              "[139 rows x 4 columns]"
            ],
            "text/html": [
              "\n",
              "  <div id=\"df-e58985b5-cc9e-4aee-bc29-5db9e4395484\" class=\"colab-df-container\">\n",
              "    <div>\n",
              "<style scoped>\n",
              "    .dataframe tbody tr th:only-of-type {\n",
              "        vertical-align: middle;\n",
              "    }\n",
              "\n",
              "    .dataframe tbody tr th {\n",
              "        vertical-align: top;\n",
              "    }\n",
              "\n",
              "    .dataframe thead th {\n",
              "        text-align: right;\n",
              "    }\n",
              "</style>\n",
              "<table border=\"1\" class=\"dataframe\">\n",
              "  <thead>\n",
              "    <tr style=\"text-align: right;\">\n",
              "      <th></th>\n",
              "      <th>product_name</th>\n",
              "      <th>order_status</th>\n",
              "      <th>total_quantity</th>\n",
              "      <th>total_amount</th>\n",
              "    </tr>\n",
              "  </thead>\n",
              "  <tbody>\n",
              "    <tr>\n",
              "      <th>1</th>\n",
              "      <td>60 teatime fairy cake cases</td>\n",
              "      <td>delivered</td>\n",
              "      <td>27432</td>\n",
              "      <td>13806.15</td>\n",
              "    </tr>\n",
              "    <tr>\n",
              "      <th>5</th>\n",
              "      <td>antique silver tea glass etched</td>\n",
              "      <td>delivered</td>\n",
              "      <td>17083</td>\n",
              "      <td>23402.78</td>\n",
              "    </tr>\n",
              "    <tr>\n",
              "      <th>47</th>\n",
              "      <td>moroccan tea glass</td>\n",
              "      <td>delivered</td>\n",
              "      <td>7129</td>\n",
              "      <td>5669.51</td>\n",
              "    </tr>\n",
              "    <tr>\n",
              "      <th>3</th>\n",
              "      <td>antique silver tea glass engraved</td>\n",
              "      <td>delivered</td>\n",
              "      <td>6935</td>\n",
              "      <td>8265.47</td>\n",
              "    </tr>\n",
              "    <tr>\n",
              "      <th>55</th>\n",
              "      <td>potting shed tea mug</td>\n",
              "      <td>delivered</td>\n",
              "      <td>6113</td>\n",
              "      <td>7321.53</td>\n",
              "    </tr>\n",
              "    <tr>\n",
              "      <th>...</th>\n",
              "      <td>...</td>\n",
              "      <td>...</td>\n",
              "      <td>...</td>\n",
              "      <td>...</td>\n",
              "    </tr>\n",
              "    <tr>\n",
              "      <th>30</th>\n",
              "      <td>french chateau oval platter</td>\n",
              "      <td>cancelled</td>\n",
              "      <td>1</td>\n",
              "      <td>7.95</td>\n",
              "    </tr>\n",
              "    <tr>\n",
              "      <th>105</th>\n",
              "      <td>tea time mug in gift box</td>\n",
              "      <td>cancelled</td>\n",
              "      <td>1</td>\n",
              "      <td>2.95</td>\n",
              "    </tr>\n",
              "    <tr>\n",
              "      <th>97</th>\n",
              "      <td>tea time breakfast basket</td>\n",
              "      <td>cancelled</td>\n",
              "      <td>1</td>\n",
              "      <td>2.10</td>\n",
              "    </tr>\n",
              "    <tr>\n",
              "      <th>129</th>\n",
              "      <td>teatime round cake tins</td>\n",
              "      <td>cancelled</td>\n",
              "      <td>1</td>\n",
              "      <td>9.95</td>\n",
              "    </tr>\n",
              "    <tr>\n",
              "      <th>137</th>\n",
              "      <td>white tea,coffee,sugar jars</td>\n",
              "      <td>cancelled</td>\n",
              "      <td>1</td>\n",
              "      <td>6.35</td>\n",
              "    </tr>\n",
              "  </tbody>\n",
              "</table>\n",
              "<p>139 rows × 4 columns</p>\n",
              "</div>\n",
              "    <div class=\"colab-df-buttons\">\n",
              "\n",
              "  <div class=\"colab-df-container\">\n",
              "    <button class=\"colab-df-convert\" onclick=\"convertToInteractive('df-e58985b5-cc9e-4aee-bc29-5db9e4395484')\"\n",
              "            title=\"Convert this dataframe to an interactive table.\"\n",
              "            style=\"display:none;\">\n",
              "\n",
              "  <svg xmlns=\"http://www.w3.org/2000/svg\" height=\"24px\" viewBox=\"0 -960 960 960\">\n",
              "    <path d=\"M120-120v-720h720v720H120Zm60-500h600v-160H180v160Zm220 220h160v-160H400v160Zm0 220h160v-160H400v160ZM180-400h160v-160H180v160Zm440 0h160v-160H620v160ZM180-180h160v-160H180v160Zm440 0h160v-160H620v160Z\"/>\n",
              "  </svg>\n",
              "    </button>\n",
              "\n",
              "  <style>\n",
              "    .colab-df-container {\n",
              "      display:flex;\n",
              "      gap: 12px;\n",
              "    }\n",
              "\n",
              "    .colab-df-convert {\n",
              "      background-color: #E8F0FE;\n",
              "      border: none;\n",
              "      border-radius: 50%;\n",
              "      cursor: pointer;\n",
              "      display: none;\n",
              "      fill: #1967D2;\n",
              "      height: 32px;\n",
              "      padding: 0 0 0 0;\n",
              "      width: 32px;\n",
              "    }\n",
              "\n",
              "    .colab-df-convert:hover {\n",
              "      background-color: #E2EBFA;\n",
              "      box-shadow: 0px 1px 2px rgba(60, 64, 67, 0.3), 0px 1px 3px 1px rgba(60, 64, 67, 0.15);\n",
              "      fill: #174EA6;\n",
              "    }\n",
              "\n",
              "    .colab-df-buttons div {\n",
              "      margin-bottom: 4px;\n",
              "    }\n",
              "\n",
              "    [theme=dark] .colab-df-convert {\n",
              "      background-color: #3B4455;\n",
              "      fill: #D2E3FC;\n",
              "    }\n",
              "\n",
              "    [theme=dark] .colab-df-convert:hover {\n",
              "      background-color: #434B5C;\n",
              "      box-shadow: 0px 1px 3px 1px rgba(0, 0, 0, 0.15);\n",
              "      filter: drop-shadow(0px 1px 2px rgba(0, 0, 0, 0.3));\n",
              "      fill: #FFFFFF;\n",
              "    }\n",
              "  </style>\n",
              "\n",
              "    <script>\n",
              "      const buttonEl =\n",
              "        document.querySelector('#df-e58985b5-cc9e-4aee-bc29-5db9e4395484 button.colab-df-convert');\n",
              "      buttonEl.style.display =\n",
              "        google.colab.kernel.accessAllowed ? 'block' : 'none';\n",
              "\n",
              "      async function convertToInteractive(key) {\n",
              "        const element = document.querySelector('#df-e58985b5-cc9e-4aee-bc29-5db9e4395484');\n",
              "        const dataTable =\n",
              "          await google.colab.kernel.invokeFunction('convertToInteractive',\n",
              "                                                    [key], {});\n",
              "        if (!dataTable) return;\n",
              "\n",
              "        const docLinkHtml = 'Like what you see? Visit the ' +\n",
              "          '<a target=\"_blank\" href=https://colab.research.google.com/notebooks/data_table.ipynb>data table notebook</a>'\n",
              "          + ' to learn more about interactive tables.';\n",
              "        element.innerHTML = '';\n",
              "        dataTable['output_type'] = 'display_data';\n",
              "        await google.colab.output.renderOutput(dataTable, element);\n",
              "        const docLink = document.createElement('div');\n",
              "        docLink.innerHTML = docLinkHtml;\n",
              "        element.appendChild(docLink);\n",
              "      }\n",
              "    </script>\n",
              "  </div>\n",
              "\n",
              "\n",
              "    <div id=\"df-e858ac7d-3d8b-47b8-a668-bdf194d38e57\">\n",
              "      <button class=\"colab-df-quickchart\" onclick=\"quickchart('df-e858ac7d-3d8b-47b8-a668-bdf194d38e57')\"\n",
              "                title=\"Suggest charts\"\n",
              "                style=\"display:none;\">\n",
              "\n",
              "<svg xmlns=\"http://www.w3.org/2000/svg\" height=\"24px\"viewBox=\"0 0 24 24\"\n",
              "     width=\"24px\">\n",
              "    <g>\n",
              "        <path d=\"M19 3H5c-1.1 0-2 .9-2 2v14c0 1.1.9 2 2 2h14c1.1 0 2-.9 2-2V5c0-1.1-.9-2-2-2zM9 17H7v-7h2v7zm4 0h-2V7h2v10zm4 0h-2v-4h2v4z\"/>\n",
              "    </g>\n",
              "</svg>\n",
              "      </button>\n",
              "\n",
              "<style>\n",
              "  .colab-df-quickchart {\n",
              "      --bg-color: #E8F0FE;\n",
              "      --fill-color: #1967D2;\n",
              "      --hover-bg-color: #E2EBFA;\n",
              "      --hover-fill-color: #174EA6;\n",
              "      --disabled-fill-color: #AAA;\n",
              "      --disabled-bg-color: #DDD;\n",
              "  }\n",
              "\n",
              "  [theme=dark] .colab-df-quickchart {\n",
              "      --bg-color: #3B4455;\n",
              "      --fill-color: #D2E3FC;\n",
              "      --hover-bg-color: #434B5C;\n",
              "      --hover-fill-color: #FFFFFF;\n",
              "      --disabled-bg-color: #3B4455;\n",
              "      --disabled-fill-color: #666;\n",
              "  }\n",
              "\n",
              "  .colab-df-quickchart {\n",
              "    background-color: var(--bg-color);\n",
              "    border: none;\n",
              "    border-radius: 50%;\n",
              "    cursor: pointer;\n",
              "    display: none;\n",
              "    fill: var(--fill-color);\n",
              "    height: 32px;\n",
              "    padding: 0;\n",
              "    width: 32px;\n",
              "  }\n",
              "\n",
              "  .colab-df-quickchart:hover {\n",
              "    background-color: var(--hover-bg-color);\n",
              "    box-shadow: 0 1px 2px rgba(60, 64, 67, 0.3), 0 1px 3px 1px rgba(60, 64, 67, 0.15);\n",
              "    fill: var(--button-hover-fill-color);\n",
              "  }\n",
              "\n",
              "  .colab-df-quickchart-complete:disabled,\n",
              "  .colab-df-quickchart-complete:disabled:hover {\n",
              "    background-color: var(--disabled-bg-color);\n",
              "    fill: var(--disabled-fill-color);\n",
              "    box-shadow: none;\n",
              "  }\n",
              "\n",
              "  .colab-df-spinner {\n",
              "    border: 2px solid var(--fill-color);\n",
              "    border-color: transparent;\n",
              "    border-bottom-color: var(--fill-color);\n",
              "    animation:\n",
              "      spin 1s steps(1) infinite;\n",
              "  }\n",
              "\n",
              "  @keyframes spin {\n",
              "    0% {\n",
              "      border-color: transparent;\n",
              "      border-bottom-color: var(--fill-color);\n",
              "      border-left-color: var(--fill-color);\n",
              "    }\n",
              "    20% {\n",
              "      border-color: transparent;\n",
              "      border-left-color: var(--fill-color);\n",
              "      border-top-color: var(--fill-color);\n",
              "    }\n",
              "    30% {\n",
              "      border-color: transparent;\n",
              "      border-left-color: var(--fill-color);\n",
              "      border-top-color: var(--fill-color);\n",
              "      border-right-color: var(--fill-color);\n",
              "    }\n",
              "    40% {\n",
              "      border-color: transparent;\n",
              "      border-right-color: var(--fill-color);\n",
              "      border-top-color: var(--fill-color);\n",
              "    }\n",
              "    60% {\n",
              "      border-color: transparent;\n",
              "      border-right-color: var(--fill-color);\n",
              "    }\n",
              "    80% {\n",
              "      border-color: transparent;\n",
              "      border-right-color: var(--fill-color);\n",
              "      border-bottom-color: var(--fill-color);\n",
              "    }\n",
              "    90% {\n",
              "      border-color: transparent;\n",
              "      border-bottom-color: var(--fill-color);\n",
              "    }\n",
              "  }\n",
              "</style>\n",
              "\n",
              "      <script>\n",
              "        async function quickchart(key) {\n",
              "          const quickchartButtonEl =\n",
              "            document.querySelector('#' + key + ' button');\n",
              "          quickchartButtonEl.disabled = true;  // To prevent multiple clicks.\n",
              "          quickchartButtonEl.classList.add('colab-df-spinner');\n",
              "          try {\n",
              "            const charts = await google.colab.kernel.invokeFunction(\n",
              "                'suggestCharts', [key], {});\n",
              "          } catch (error) {\n",
              "            console.error('Error during call to suggestCharts:', error);\n",
              "          }\n",
              "          quickchartButtonEl.classList.remove('colab-df-spinner');\n",
              "          quickchartButtonEl.classList.add('colab-df-quickchart-complete');\n",
              "        }\n",
              "        (() => {\n",
              "          let quickchartButtonEl =\n",
              "            document.querySelector('#df-e858ac7d-3d8b-47b8-a668-bdf194d38e57 button');\n",
              "          quickchartButtonEl.style.display =\n",
              "            google.colab.kernel.accessAllowed ? 'block' : 'none';\n",
              "        })();\n",
              "      </script>\n",
              "    </div>\n",
              "\n",
              "    </div>\n",
              "  </div>\n"
            ],
            "application/vnd.google.colaboratory.intrinsic+json": {
              "type": "dataframe",
              "summary": "{\n  \"name\": \"df_clean\",\n  \"rows\": 139,\n  \"fields\": [\n    {\n      \"column\": \"product_name\",\n      \"properties\": {\n        \"dtype\": \"string\",\n        \"num_unique_values\": 87,\n        \"samples\": [\n          \"teatime pencil w stamp asst\",\n          \"60 teatime fairy cake cases\",\n          \"tea time cake stand in gift box\"\n        ],\n        \"semantic_type\": \"\",\n        \"description\": \"\"\n      }\n    },\n    {\n      \"column\": \"order_status\",\n      \"properties\": {\n        \"dtype\": \"category\",\n        \"num_unique_values\": 2,\n        \"samples\": [\n          \"cancelled\",\n          \"delivered\"\n        ],\n        \"semantic_type\": \"\",\n        \"description\": \"\"\n      }\n    },\n    {\n      \"column\": \"total_quantity\",\n      \"properties\": {\n        \"dtype\": \"number\",\n        \"std\": 3045,\n        \"min\": 1,\n        \"max\": 27432,\n        \"num_unique_values\": 110,\n        \"samples\": [\n          89,\n          4082\n        ],\n        \"semantic_type\": \"\",\n        \"description\": \"\"\n      }\n    },\n    {\n      \"column\": \"total_amount\",\n      \"properties\": {\n        \"dtype\": \"number\",\n        \"std\": 4757.910039685475,\n        \"min\": 2.1,\n        \"max\": 26906.36,\n        \"num_unique_values\": 135,\n        \"samples\": [\n          30.0,\n          79.05000000000001\n        ],\n        \"semantic_type\": \"\",\n        \"description\": \"\"\n      }\n    }\n  ]\n}"
            }
          },
          "metadata": {},
          "execution_count": 39
        }
      ],
      "source": [
        "# dengan lebih dari 1 kolom sebagai grouping\n",
        "df_clean.loc[df_clean['product_name'].str.contains('tea')].groupby(['product_name','order_status'], as_index=False).agg(total_quantity=('quantity','sum'),total_amount=('amount','sum')).sort_values('total_quantity', ascending=False)"
      ]
    },
    {
      "cell_type": "code",
      "execution_count": 39,
      "id": "7185cb50-97c2-46b0-ba86-dd17167867a6",
      "metadata": {
        "id": "7185cb50-97c2-46b0-ba86-dd17167867a6"
      },
      "outputs": [],
      "source": []
    }
  ],
  "metadata": {
    "kernelspec": {
      "display_name": "Python 3 (ipykernel)",
      "language": "python",
      "name": "python3"
    },
    "language_info": {
      "codemirror_mode": {
        "name": "ipython",
        "version": 3
      },
      "file_extension": ".py",
      "mimetype": "text/x-python",
      "name": "python",
      "nbconvert_exporter": "python",
      "pygments_lexer": "ipython3",
      "version": "3.9.12"
    },
    "toc": {
      "base_numbering": 1,
      "nav_menu": {},
      "number_sections": true,
      "sideBar": true,
      "skip_h1_title": false,
      "title_cell": "Table of Contents",
      "title_sidebar": "Contents",
      "toc_cell": false,
      "toc_position": {},
      "toc_section_display": true,
      "toc_window_display": true
    },
    "colab": {
      "provenance": [],
      "include_colab_link": true
    }
  },
  "nbformat": 4,
  "nbformat_minor": 5
}